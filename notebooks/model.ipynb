{
 "cells": [
  {
   "cell_type": "code",
   "execution_count": 36,
   "metadata": {},
   "outputs": [],
   "source": [
    "\n",
    "import pandas as pd\n",
    "import numpy as np\n",
    "import seaborn as sns\n",
    "import matplotlib.pyplot as plt\n",
    "import plotly.express as px\n",
    "import plotly.graph_objects as go\n",
    "from sklearn.compose import ColumnTransformer\n",
    "from sklearn.pipeline import Pipeline\n",
    "from sklearn.impute import SimpleImputer\n",
    "from sklearn.preprocessing import MinMaxScaler, StandardScaler, OneHotEncoder\n",
    "from utils.class_weights import get_normalized_class_weights\n",
    "from utils.model_evaluate import ModelEvaluator\n",
    "\n",
    "from sklearn.metrics import precision_score, recall_score"
   ]
  },
  {
   "cell_type": "code",
   "execution_count": 47,
   "metadata": {},
   "outputs": [],
   "source": [
    "def plot_th_decision(model, X, y, th_atual=0.5):\n",
    "    # Obter probabilidades do modelo\n",
    "    y_probas = model.predict_proba(X)[:, 1]\n",
    "\n",
    "    # Criar thresholds de 0.05 em 0.05\n",
    "    thresholds = np.arange(0.26, 0.6, 0.02)\n",
    "\n",
    "    # Calcular precision e recall para cada threshold\n",
    "    precisions = []\n",
    "    recalls = []\n",
    "\n",
    "    for th in thresholds:\n",
    "        y_pred = (y_probas > th).astype(int)\n",
    "        precision = precision_score(y, y_pred)\n",
    "        recall = recall_score(y, y_pred)\n",
    "        precisions.append(precision)\n",
    "        recalls.append(recall)\n",
    "\n",
    "    # Criar DataFrame com os resultados\n",
    "    df_metrics = pd.DataFrame({\n",
    "        'Threshold': thresholds,\n",
    "        'Precision': precisions,\n",
    "        'Recall': recalls\n",
    "    })\n",
    "\n",
    "    # Criar gráfico com Plotly\n",
    "    fig = go.Figure()\n",
    "\n",
    "    # Adicionar linha de Precision\n",
    "    fig.add_trace(go.Scatter(\n",
    "        x=df_metrics['Threshold'],\n",
    "        y=df_metrics['Precision'],\n",
    "        name='Precision',\n",
    "        line=dict(color='blue', width=2)\n",
    "    ))\n",
    "\n",
    "    # Adicionar linha de Recall\n",
    "    fig.add_trace(go.Scatter(\n",
    "        x=df_metrics['Threshold'],\n",
    "        y=df_metrics['Recall'],\n",
    "        name='Recall',\n",
    "        line=dict(color='red', width=2)\n",
    "    ))\n",
    "\n",
    "    # Atualizar layout\n",
    "    fig.update_layout(\n",
    "        title='Precision e Recall vs Threshold',\n",
    "        xaxis_title='Threshold',\n",
    "        yaxis_title='Score',\n",
    "        hovermode='x unified',\n",
    "        yaxis=dict(range=[0, 1])\n",
    "    )\n",
    "\n",
    "    # Adicionar linha vertical no threshold atual (0.45)\n",
    "    fig.add_vline(x=0.45, line_dash=\"dash\", line_color=\"gray\", annotation_text=f\"Threshold Atual ({th_atual})\")\n",
    "\n",
    "    # Mostrar o gráfico\n",
    "    fig.show()\n",
    "\n",
    "    # Mostrar os valores em uma tabela\n",
    "    print(\"\\nValores por Threshold:\")\n",
    "    print(df_metrics.round(3).to_string(index=False))"
   ]
  },
  {
   "cell_type": "markdown",
   "metadata": {},
   "source": [
    "# Carregamento dos dados"
   ]
  },
  {
   "cell_type": "code",
   "execution_count": 2,
   "metadata": {},
   "outputs": [
    {
     "name": "stdout",
     "output_type": "stream",
     "text": [
      "(22742, 14)\n"
     ]
    },
    {
     "data": {
      "text/html": [
       "<div>\n",
       "<style scoped>\n",
       "    .dataframe tbody tr th:only-of-type {\n",
       "        vertical-align: middle;\n",
       "    }\n",
       "\n",
       "    .dataframe tbody tr th {\n",
       "        vertical-align: top;\n",
       "    }\n",
       "\n",
       "    .dataframe thead th {\n",
       "        text-align: right;\n",
       "    }\n",
       "</style>\n",
       "<table border=\"1\" class=\"dataframe\">\n",
       "  <thead>\n",
       "    <tr style=\"text-align: right;\">\n",
       "      <th></th>\n",
       "      <th>user</th>\n",
       "      <th>sexo</th>\n",
       "      <th>uf</th>\n",
       "      <th>idade</th>\n",
       "      <th>dias</th>\n",
       "      <th>pviews</th>\n",
       "      <th>visitas</th>\n",
       "      <th>tempo_total</th>\n",
       "      <th>device</th>\n",
       "      <th>blog_cartola</th>\n",
       "      <th>cartola_status</th>\n",
       "      <th>horas_engajamento_futebol</th>\n",
       "      <th>horas_engajamento_outros_esportes</th>\n",
       "      <th>horas_engajamento_home</th>\n",
       "    </tr>\n",
       "  </thead>\n",
       "  <tbody>\n",
       "    <tr>\n",
       "      <th>0</th>\n",
       "      <td>1919933</td>\n",
       "      <td>NaN</td>\n",
       "      <td>NaN</td>\n",
       "      <td>NaN</td>\n",
       "      <td>1</td>\n",
       "      <td>1</td>\n",
       "      <td>1</td>\n",
       "      <td>0.012500</td>\n",
       "      <td>m_only</td>\n",
       "      <td>0.012500</td>\n",
       "      <td>cartola_free</td>\n",
       "      <td>0.000000</td>\n",
       "      <td>0.000000</td>\n",
       "      <td>0.000000</td>\n",
       "    </tr>\n",
       "    <tr>\n",
       "      <th>1</th>\n",
       "      <td>1979452</td>\n",
       "      <td>NaN</td>\n",
       "      <td>NaN</td>\n",
       "      <td>NaN</td>\n",
       "      <td>7</td>\n",
       "      <td>66</td>\n",
       "      <td>10</td>\n",
       "      <td>1.018757</td>\n",
       "      <td>pc_e_m</td>\n",
       "      <td>0.068122</td>\n",
       "      <td>cartola_pro</td>\n",
       "      <td>0.911605</td>\n",
       "      <td>0.000000</td>\n",
       "      <td>0.026530</td>\n",
       "    </tr>\n",
       "    <tr>\n",
       "      <th>2</th>\n",
       "      <td>1987950</td>\n",
       "      <td>NaN</td>\n",
       "      <td>NaN</td>\n",
       "      <td>NaN</td>\n",
       "      <td>7</td>\n",
       "      <td>14</td>\n",
       "      <td>6</td>\n",
       "      <td>1.293761</td>\n",
       "      <td>pc_e_m</td>\n",
       "      <td>0.012500</td>\n",
       "      <td>cartola_free</td>\n",
       "      <td>0.000000</td>\n",
       "      <td>0.564663</td>\n",
       "      <td>0.025642</td>\n",
       "    </tr>\n",
       "    <tr>\n",
       "      <th>3</th>\n",
       "      <td>1988149</td>\n",
       "      <td>NaN</td>\n",
       "      <td>NaN</td>\n",
       "      <td>NaN</td>\n",
       "      <td>8</td>\n",
       "      <td>49</td>\n",
       "      <td>24</td>\n",
       "      <td>1.995802</td>\n",
       "      <td>pc_only</td>\n",
       "      <td>0.013103</td>\n",
       "      <td>cartola_free</td>\n",
       "      <td>0.357694</td>\n",
       "      <td>0.961152</td>\n",
       "      <td>0.651353</td>\n",
       "    </tr>\n",
       "    <tr>\n",
       "      <th>4</th>\n",
       "      <td>1996199</td>\n",
       "      <td>NaN</td>\n",
       "      <td>NaN</td>\n",
       "      <td>NaN</td>\n",
       "      <td>21</td>\n",
       "      <td>75</td>\n",
       "      <td>46</td>\n",
       "      <td>2.845341</td>\n",
       "      <td>pc_e_m</td>\n",
       "      <td>0.026424</td>\n",
       "      <td>cartola_free</td>\n",
       "      <td>0.335683</td>\n",
       "      <td>1.996365</td>\n",
       "      <td>0.219123</td>\n",
       "    </tr>\n",
       "  </tbody>\n",
       "</table>\n",
       "</div>"
      ],
      "text/plain": [
       "      user sexo   uf  idade  dias  pviews  visitas  tempo_total   device  \\\n",
       "0  1919933  NaN  NaN    NaN     1       1        1     0.012500   m_only   \n",
       "1  1979452  NaN  NaN    NaN     7      66       10     1.018757   pc_e_m   \n",
       "2  1987950  NaN  NaN    NaN     7      14        6     1.293761   pc_e_m   \n",
       "3  1988149  NaN  NaN    NaN     8      49       24     1.995802  pc_only   \n",
       "4  1996199  NaN  NaN    NaN    21      75       46     2.845341   pc_e_m   \n",
       "\n",
       "   blog_cartola cartola_status  horas_engajamento_futebol  \\\n",
       "0      0.012500   cartola_free                   0.000000   \n",
       "1      0.068122    cartola_pro                   0.911605   \n",
       "2      0.012500   cartola_free                   0.000000   \n",
       "3      0.013103   cartola_free                   0.357694   \n",
       "4      0.026424   cartola_free                   0.335683   \n",
       "\n",
       "   horas_engajamento_outros_esportes  horas_engajamento_home  \n",
       "0                           0.000000                0.000000  \n",
       "1                           0.000000                0.026530  \n",
       "2                           0.564663                0.025642  \n",
       "3                           0.961152                0.651353  \n",
       "4                           1.996365                0.219123  "
      ]
     },
     "execution_count": 2,
     "metadata": {},
     "output_type": "execute_result"
    }
   ],
   "source": [
    "df = pd.read_csv('../data/02_handling_outliers/data.csv')\n",
    "print(df.shape)\n",
    "\n",
    "df.head()"
   ]
  },
  {
   "cell_type": "markdown",
   "metadata": {},
   "source": [
    "Atribuindo labels ao target"
   ]
  },
  {
   "cell_type": "code",
   "execution_count": 3,
   "metadata": {},
   "outputs": [],
   "source": [
    "df.loc[df['cartola_status'] == 'cartola_free', 'target_cartola_status'] = 0\n",
    "df.loc[df['cartola_status'] == 'cartola_pro', 'target_cartola_status'] = 1\n",
    "df.drop(columns=['cartola_status'], inplace=True)"
   ]
  },
  {
   "cell_type": "markdown",
   "metadata": {},
   "source": [
    "# Preparação dos dados"
   ]
  },
  {
   "cell_type": "markdown",
   "metadata": {},
   "source": [
    "## Correlação e Feature Engineering"
   ]
  },
  {
   "cell_type": "markdown",
   "metadata": {},
   "source": [
    "Analisando distribuição do target"
   ]
  },
  {
   "cell_type": "code",
   "execution_count": 4,
   "metadata": {},
   "outputs": [
    {
     "data": {
      "text/plain": [
       "target_cartola_status\n",
       "0.0    97.388093\n",
       "1.0     2.611907\n",
       "Name: proportion, dtype: float64"
      ]
     },
     "execution_count": 4,
     "metadata": {},
     "output_type": "execute_result"
    }
   ],
   "source": [
    "df['target_cartola_status'].value_counts(normalize=True) * 100"
   ]
  },
  {
   "cell_type": "markdown",
   "metadata": {},
   "source": [
    "Vamos utilizar a correlação de Spearman, pois ela captura relações monotônicas (não apenas lineares) e é mais robusta a outliers"
   ]
  },
  {
   "cell_type": "code",
   "execution_count": 5,
   "metadata": {},
   "outputs": [
    {
     "data": {
      "text/plain": [
       "<Axes: >"
      ]
     },
     "execution_count": 5,
     "metadata": {},
     "output_type": "execute_result"
    },
    {
     "data": {
      "image/png": "[encoded data removed]",
      "text/plain": [
       "<Figure size 800x600 with 2 Axes>"
      ]
     },
     "metadata": {},
     "output_type": "display_data"
    }
   ],
   "source": [
    "sns.set_theme(style=\"white\")\n",
    "\n",
    "corr = df.drop(columns=['user']).corr('spearman', numeric_only=True)\n",
    "mask = np.triu(np.ones_like(corr, dtype=bool))\n",
    "\n",
    "f, ax = plt.subplots(figsize=(8, 6))\n",
    "\n",
    "cmap = sns.diverging_palette(230, 20, as_cmap=True)\n",
    "\n",
    "sns.heatmap(corr\n",
    "            , mask=mask\n",
    "            , cmap=cmap\n",
    "            , vmax=.3\n",
    "            , center=0\n",
    "            , square=True\n",
    "            , linewidths=.5\n",
    "            , cbar_kws={\"shrink\": .5}\n",
    "            , annot=True)"
   ]
  },
  {
   "cell_type": "markdown",
   "metadata": {},
   "source": [
    "Temos muitas features altamente correlatas, vamos reduzir algumas para evitar possível multicolinearidade"
   ]
  },
  {
   "cell_type": "code",
   "execution_count": 6,
   "metadata": {},
   "outputs": [],
   "source": [
    "# taxa de engajamento\n",
    "df['taxa_engajamento'] = df['tempo_total'] / df['visitas']\n",
    "\n",
    "# razão entre a qtd de pviews por visitas\n",
    "df['pviews_por_visitas'] = df['pviews'] / df['visitas']\n",
    "\n",
    "# frequencia de visitas\n",
    "df['frequencia_visitas'] = df['visitas'] / df['dias']"
   ]
  },
  {
   "cell_type": "markdown",
   "metadata": {},
   "source": [
    "Dropando colunas que não serão mais utilizadas\n",
    "\n",
    "- coluna UF: Como vimos na análise exploratória, se não há diferença significativa na distribuição de clientes PRO e Free, a variável adiciona ruído sem valor preditivo\n",
    "Também vamos evitar o problema de criar muitas variáveis dummy.\n",
    "- coluna devices: vamos retirá-la, pois seu número de missings representa 50% do dataframe, o que pode comprometer a análise, até mesmo na hora de preenchê-los.\n",
    "- coluna sexo: vimos na análise exploratória que o sexo masculino é predominante, e tbm notamos o alto nível de missing. Nessa primeira etapa, vou retirar essa variável,\n",
    "  porém, vale a pena testa-la de outras formas futuramente, como por exemplo, imputar os valores nulos com um valor numérico (ex: -1) ou uma categoria representativa ('nao_atribuido').\n"
   ]
  },
  {
   "cell_type": "code",
   "execution_count": 7,
   "metadata": {},
   "outputs": [],
   "source": [
    "drop_cols = ['pviews', 'visitas', 'dias', 'tempo_total', 'uf', 'sexo', 'device']\n",
    "# drop_cols = ['uf', 'device']\n",
    "\n",
    "df = df.drop(columns=drop_cols)"
   ]
  },
  {
   "cell_type": "code",
   "execution_count": 8,
   "metadata": {},
   "outputs": [
    {
     "data": {
      "text/plain": [
       "<Axes: >"
      ]
     },
     "execution_count": 8,
     "metadata": {},
     "output_type": "execute_result"
    },
    {
     "data": {
      "image/png": "[encoded data removed]",
      "text/plain": [
       "<Figure size 800x600 with 2 Axes>"
      ]
     },
     "metadata": {},
     "output_type": "display_data"
    }
   ],
   "source": [
    "sns.set_theme(style=\"white\")\n",
    "\n",
    "corr = df.drop(columns=['user']).corr('spearman', numeric_only=True)\n",
    "mask = np.triu(np.ones_like(corr, dtype=bool))\n",
    "\n",
    "f, ax = plt.subplots(figsize=(8, 6))\n",
    "\n",
    "cmap = sns.diverging_palette(230, 20, as_cmap=True)\n",
    "\n",
    "sns.heatmap(corr\n",
    "            , mask=mask\n",
    "            , cmap=cmap\n",
    "            , vmax=.3\n",
    "            , center=0\n",
    "            , square=True\n",
    "            , linewidths=.5\n",
    "            , cbar_kws={\"shrink\": .5}\n",
    "            , annot=True)"
   ]
  },
  {
   "cell_type": "markdown",
   "metadata": {},
   "source": [
    "Houve uma boa redução na correlação das variáveis."
   ]
  },
  {
   "cell_type": "markdown",
   "metadata": {},
   "source": [
    "## Split em treino, validação e teste"
   ]
  },
  {
   "cell_type": "code",
   "execution_count": 9,
   "metadata": {},
   "outputs": [],
   "source": [
    "df_test = df.sample(frac=.2, random_state=42) # separando 20% para teste\n",
    "\n",
    "df_train_val = df.drop(df_test.index)"
   ]
  },
  {
   "cell_type": "code",
   "execution_count": 10,
   "metadata": {},
   "outputs": [
    {
     "data": {
      "text/plain": [
       "Index(['user', 'idade', 'blog_cartola', 'horas_engajamento_futebol',\n",
       "       'horas_engajamento_outros_esportes', 'horas_engajamento_home',\n",
       "       'target_cartola_status', 'taxa_engajamento', 'pviews_por_visitas',\n",
       "       'frequencia_visitas'],\n",
       "      dtype='object')"
      ]
     },
     "execution_count": 10,
     "metadata": {},
     "output_type": "execute_result"
    }
   ],
   "source": [
    "df_train_val.columns"
   ]
  },
  {
   "cell_type": "code",
   "execution_count": 11,
   "metadata": {},
   "outputs": [],
   "source": [
    "X = df_train_val.drop(columns=['user', 'target_cartola_status'])\n",
    "y = df_train_val['target_cartola_status']"
   ]
  },
  {
   "cell_type": "code",
   "execution_count": 12,
   "metadata": {},
   "outputs": [],
   "source": [
    "from sklearn.model_selection import train_test_split\n",
    "\n",
    "X_train, X_val, y_train, y_val = train_test_split(X, y, test_size=0.2, random_state=42)"
   ]
  },
  {
   "cell_type": "markdown",
   "metadata": {},
   "source": [
    "## Column Transformer"
   ]
  },
  {
   "cell_type": "code",
   "execution_count": 13,
   "metadata": {},
   "outputs": [
    {
     "data": {
      "text/html": [
       "<style>#sk-container-id-1 {\n",
       "  /* Definition of color scheme common for light and dark mode */\n",
       "  --sklearn-color-text: black;\n",
       "  --sklearn-color-line: gray;\n",
       "  /* Definition of color scheme for unfitted estimators */\n",
       "  --sklearn-color-unfitted-level-0: #fff5e6;\n",
       "  --sklearn-color-unfitted-level-1: #f6e4d2;\n",
       "  --sklearn-color-unfitted-level-2: #ffe0b3;\n",
       "  --sklearn-color-unfitted-level-3: chocolate;\n",
       "  /* Definition of color scheme for fitted estimators */\n",
       "  --sklearn-color-fitted-level-0: #f0f8ff;\n",
       "  --sklearn-color-fitted-level-1: #d4ebff;\n",
       "  --sklearn-color-fitted-level-2: #b3dbfd;\n",
       "  --sklearn-color-fitted-level-3: cornflowerblue;\n",
       "\n",
       "  /* Specific color for light theme */\n",
       "  --sklearn-color-text-on-default-background: var(--sg-text-color, var(--theme-code-foreground, var(--jp-content-font-color1, black)));\n",
       "  --sklearn-color-background: var(--sg-background-color, var(--theme-background, var(--jp-layout-color0, white)));\n",
       "  --sklearn-color-border-box: var(--sg-text-color, var(--theme-code-foreground, var(--jp-content-font-color1, black)));\n",
       "  --sklearn-color-icon: #696969;\n",
       "\n",
       "  @media (prefers-color-scheme: dark) {\n",
       "    /* Redefinition of color scheme for dark theme */\n",
       "    --sklearn-color-text-on-default-background: var(--sg-text-color, var(--theme-code-foreground, var(--jp-content-font-color1, white)));\n",
       "    --sklearn-color-background: var(--sg-background-color, var(--theme-background, var(--jp-layout-color0, #111)));\n",
       "    --sklearn-color-border-box: var(--sg-text-color, var(--theme-code-foreground, var(--jp-content-font-color1, white)));\n",
       "    --sklearn-color-icon: #878787;\n",
       "  }\n",
       "}\n",
       "\n",
       "#sk-container-id-1 {\n",
       "  color: var(--sklearn-color-text);\n",
       "}\n",
       "\n",
       "#sk-container-id-1 pre {\n",
       "  padding: 0;\n",
       "}\n",
       "\n",
       "#sk-container-id-1 input.sk-hidden--visually {\n",
       "  border: 0;\n",
       "  clip: rect(1px 1px 1px 1px);\n",
       "  clip: rect(1px, 1px, 1px, 1px);\n",
       "  height: 1px;\n",
       "  margin: -1px;\n",
       "  overflow: hidden;\n",
       "  padding: 0;\n",
       "  position: absolute;\n",
       "  width: 1px;\n",
       "}\n",
       "\n",
       "#sk-container-id-1 div.sk-dashed-wrapped {\n",
       "  border: 1px dashed var(--sklearn-color-line);\n",
       "  margin: 0 0.4em 0.5em 0.4em;\n",
       "  box-sizing: border-box;\n",
       "  padding-bottom: 0.4em;\n",
       "  background-color: var(--sklearn-color-background);\n",
       "}\n",
       "\n",
       "#sk-container-id-1 div.sk-container {\n",
       "  /* jupyter's `normalize.less` sets `[hidden] { display: none; }`\n",
       "     but bootstrap.min.css set `[hidden] { display: none !important; }`\n",
       "     so we also need the `!important` here to be able to override the\n",
       "     default hidden behavior on the sphinx rendered scikit-learn.org.\n",
       "     See: https://github.com/scikit-learn/scikit-learn/issues/21755 */\n",
       "  display: inline-block !important;\n",
       "  position: relative;\n",
       "}\n",
       "\n",
       "#sk-container-id-1 div.sk-text-repr-fallback {\n",
       "  display: none;\n",
       "}\n",
       "\n",
       "div.sk-parallel-item,\n",
       "div.sk-serial,\n",
       "div.sk-item {\n",
       "  /* draw centered vertical line to link estimators */\n",
       "  background-image: linear-gradient(var(--sklearn-color-text-on-default-background), var(--sklearn-color-text-on-default-background));\n",
       "  background-size: 2px 100%;\n",
       "  background-repeat: no-repeat;\n",
       "  background-position: center center;\n",
       "}\n",
       "\n",
       "/* Parallel-specific style estimator block */\n",
       "\n",
       "#sk-container-id-1 div.sk-parallel-item::after {\n",
       "  content: \"\";\n",
       "  width: 100%;\n",
       "  border-bottom: 2px solid var(--sklearn-color-text-on-default-background);\n",
       "  flex-grow: 1;\n",
       "}\n",
       "\n",
       "#sk-container-id-1 div.sk-parallel {\n",
       "  display: flex;\n",
       "  align-items: stretch;\n",
       "  justify-content: center;\n",
       "  background-color: var(--sklearn-color-background);\n",
       "  position: relative;\n",
       "}\n",
       "\n",
       "#sk-container-id-1 div.sk-parallel-item {\n",
       "  display: flex;\n",
       "  flex-direction: column;\n",
       "}\n",
       "\n",
       "#sk-container-id-1 div.sk-parallel-item:first-child::after {\n",
       "  align-self: flex-end;\n",
       "  width: 50%;\n",
       "}\n",
       "\n",
       "#sk-container-id-1 div.sk-parallel-item:last-child::after {\n",
       "  align-self: flex-start;\n",
       "  width: 50%;\n",
       "}\n",
       "\n",
       "#sk-container-id-1 div.sk-parallel-item:only-child::after {\n",
       "  width: 0;\n",
       "}\n",
       "\n",
       "/* Serial-specific style estimator block */\n",
       "\n",
       "#sk-container-id-1 div.sk-serial {\n",
       "  display: flex;\n",
       "  flex-direction: column;\n",
       "  align-items: center;\n",
       "  background-color: var(--sklearn-color-background);\n",
       "  padding-right: 1em;\n",
       "  padding-left: 1em;\n",
       "}\n",
       "\n",
       "\n",
       "/* Toggleable style: style used for estimator/Pipeline/ColumnTransformer box that is\n",
       "clickable and can be expanded/collapsed.\n",
       "- Pipeline and ColumnTransformer use this feature and define the default style\n",
       "- Estimators will overwrite some part of the style using the `sk-estimator` class\n",
       "*/\n",
       "\n",
       "/* Pipeline and ColumnTransformer style (default) */\n",
       "\n",
       "#sk-container-id-1 div.sk-toggleable {\n",
       "  /* Default theme specific background. It is overwritten whether we have a\n",
       "  specific estimator or a Pipeline/ColumnTransformer */\n",
       "  background-color: var(--sklearn-color-background);\n",
       "}\n",
       "\n",
       "/* Toggleable label */\n",
       "#sk-container-id-1 label.sk-toggleable__label {\n",
       "  cursor: pointer;\n",
       "  display: block;\n",
       "  width: 100%;\n",
       "  margin-bottom: 0;\n",
       "  padding: 0.5em;\n",
       "  box-sizing: border-box;\n",
       "  text-align: center;\n",
       "}\n",
       "\n",
       "#sk-container-id-1 label.sk-toggleable__label-arrow:before {\n",
       "  /* Arrow on the left of the label */\n",
       "  content: \"▸\";\n",
       "  float: left;\n",
       "  margin-right: 0.25em;\n",
       "  color: var(--sklearn-color-icon);\n",
       "}\n",
       "\n",
       "#sk-container-id-1 label.sk-toggleable__label-arrow:hover:before {\n",
       "  color: var(--sklearn-color-text);\n",
       "}\n",
       "\n",
       "/* Toggleable content - dropdown */\n",
       "\n",
       "#sk-container-id-1 div.sk-toggleable__content {\n",
       "  max-height: 0;\n",
       "  max-width: 0;\n",
       "  overflow: hidden;\n",
       "  text-align: left;\n",
       "  /* unfitted */\n",
       "  background-color: var(--sklearn-color-unfitted-level-0);\n",
       "}\n",
       "\n",
       "#sk-container-id-1 div.sk-toggleable__content.fitted {\n",
       "  /* fitted */\n",
       "  background-color: var(--sklearn-color-fitted-level-0);\n",
       "}\n",
       "\n",
       "#sk-container-id-1 div.sk-toggleable__content pre {\n",
       "  margin: 0.2em;\n",
       "  border-radius: 0.25em;\n",
       "  color: var(--sklearn-color-text);\n",
       "  /* unfitted */\n",
       "  background-color: var(--sklearn-color-unfitted-level-0);\n",
       "}\n",
       "\n",
       "#sk-container-id-1 div.sk-toggleable__content.fitted pre {\n",
       "  /* unfitted */\n",
       "  background-color: var(--sklearn-color-fitted-level-0);\n",
       "}\n",
       "\n",
       "#sk-container-id-1 input.sk-toggleable__control:checked~div.sk-toggleable__content {\n",
       "  /* Expand drop-down */\n",
       "  max-height: 200px;\n",
       "  max-width: 100%;\n",
       "  overflow: auto;\n",
       "}\n",
       "\n",
       "#sk-container-id-1 input.sk-toggleable__control:checked~label.sk-toggleable__label-arrow:before {\n",
       "  content: \"▾\";\n",
       "}\n",
       "\n",
       "/* Pipeline/ColumnTransformer-specific style */\n",
       "\n",
       "#sk-container-id-1 div.sk-label input.sk-toggleable__control:checked~label.sk-toggleable__label {\n",
       "  color: var(--sklearn-color-text);\n",
       "  background-color: var(--sklearn-color-unfitted-level-2);\n",
       "}\n",
       "\n",
       "#sk-container-id-1 div.sk-label.fitted input.sk-toggleable__control:checked~label.sk-toggleable__label {\n",
       "  background-color: var(--sklearn-color-fitted-level-2);\n",
       "}\n",
       "\n",
       "/* Estimator-specific style */\n",
       "\n",
       "/* Colorize estimator box */\n",
       "#sk-container-id-1 div.sk-estimator input.sk-toggleable__control:checked~label.sk-toggleable__label {\n",
       "  /* unfitted */\n",
       "  background-color: var(--sklearn-color-unfitted-level-2);\n",
       "}\n",
       "\n",
       "#sk-container-id-1 div.sk-estimator.fitted input.sk-toggleable__control:checked~label.sk-toggleable__label {\n",
       "  /* fitted */\n",
       "  background-color: var(--sklearn-color-fitted-level-2);\n",
       "}\n",
       "\n",
       "#sk-container-id-1 div.sk-label label.sk-toggleable__label,\n",
       "#sk-container-id-1 div.sk-label label {\n",
       "  /* The background is the default theme color */\n",
       "  color: var(--sklearn-color-text-on-default-background);\n",
       "}\n",
       "\n",
       "/* On hover, darken the color of the background */\n",
       "#sk-container-id-1 div.sk-label:hover label.sk-toggleable__label {\n",
       "  color: var(--sklearn-color-text);\n",
       "  background-color: var(--sklearn-color-unfitted-level-2);\n",
       "}\n",
       "\n",
       "/* Label box, darken color on hover, fitted */\n",
       "#sk-container-id-1 div.sk-label.fitted:hover label.sk-toggleable__label.fitted {\n",
       "  color: var(--sklearn-color-text);\n",
       "  background-color: var(--sklearn-color-fitted-level-2);\n",
       "}\n",
       "\n",
       "/* Estimator label */\n",
       "\n",
       "#sk-container-id-1 div.sk-label label {\n",
       "  font-family: monospace;\n",
       "  font-weight: bold;\n",
       "  display: inline-block;\n",
       "  line-height: 1.2em;\n",
       "}\n",
       "\n",
       "#sk-container-id-1 div.sk-label-container {\n",
       "  text-align: center;\n",
       "}\n",
       "\n",
       "/* Estimator-specific */\n",
       "#sk-container-id-1 div.sk-estimator {\n",
       "  font-family: monospace;\n",
       "  border: 1px dotted var(--sklearn-color-border-box);\n",
       "  border-radius: 0.25em;\n",
       "  box-sizing: border-box;\n",
       "  margin-bottom: 0.5em;\n",
       "  /* unfitted */\n",
       "  background-color: var(--sklearn-color-unfitted-level-0);\n",
       "}\n",
       "\n",
       "#sk-container-id-1 div.sk-estimator.fitted {\n",
       "  /* fitted */\n",
       "  background-color: var(--sklearn-color-fitted-level-0);\n",
       "}\n",
       "\n",
       "/* on hover */\n",
       "#sk-container-id-1 div.sk-estimator:hover {\n",
       "  /* unfitted */\n",
       "  background-color: var(--sklearn-color-unfitted-level-2);\n",
       "}\n",
       "\n",
       "#sk-container-id-1 div.sk-estimator.fitted:hover {\n",
       "  /* fitted */\n",
       "  background-color: var(--sklearn-color-fitted-level-2);\n",
       "}\n",
       "\n",
       "/* Specification for estimator info (e.g. \"i\" and \"?\") */\n",
       "\n",
       "/* Common style for \"i\" and \"?\" */\n",
       "\n",
       ".sk-estimator-doc-link,\n",
       "a:link.sk-estimator-doc-link,\n",
       "a:visited.sk-estimator-doc-link {\n",
       "  float: right;\n",
       "  font-size: smaller;\n",
       "  line-height: 1em;\n",
       "  font-family: monospace;\n",
       "  background-color: var(--sklearn-color-background);\n",
       "  border-radius: 1em;\n",
       "  height: 1em;\n",
       "  width: 1em;\n",
       "  text-decoration: none !important;\n",
       "  margin-left: 1ex;\n",
       "  /* unfitted */\n",
       "  border: var(--sklearn-color-unfitted-level-1) 1pt solid;\n",
       "  color: var(--sklearn-color-unfitted-level-1);\n",
       "}\n",
       "\n",
       ".sk-estimator-doc-link.fitted,\n",
       "a:link.sk-estimator-doc-link.fitted,\n",
       "a:visited.sk-estimator-doc-link.fitted {\n",
       "  /* fitted */\n",
       "  border: var(--sklearn-color-fitted-level-1) 1pt solid;\n",
       "  color: var(--sklearn-color-fitted-level-1);\n",
       "}\n",
       "\n",
       "/* On hover */\n",
       "div.sk-estimator:hover .sk-estimator-doc-link:hover,\n",
       ".sk-estimator-doc-link:hover,\n",
       "div.sk-label-container:hover .sk-estimator-doc-link:hover,\n",
       ".sk-estimator-doc-link:hover {\n",
       "  /* unfitted */\n",
       "  background-color: var(--sklearn-color-unfitted-level-3);\n",
       "  color: var(--sklearn-color-background);\n",
       "  text-decoration: none;\n",
       "}\n",
       "\n",
       "div.sk-estimator.fitted:hover .sk-estimator-doc-link.fitted:hover,\n",
       ".sk-estimator-doc-link.fitted:hover,\n",
       "div.sk-label-container:hover .sk-estimator-doc-link.fitted:hover,\n",
       ".sk-estimator-doc-link.fitted:hover {\n",
       "  /* fitted */\n",
       "  background-color: var(--sklearn-color-fitted-level-3);\n",
       "  color: var(--sklearn-color-background);\n",
       "  text-decoration: none;\n",
       "}\n",
       "\n",
       "/* Span, style for the box shown on hovering the info icon */\n",
       ".sk-estimator-doc-link span {\n",
       "  display: none;\n",
       "  z-index: 9999;\n",
       "  position: relative;\n",
       "  font-weight: normal;\n",
       "  right: .2ex;\n",
       "  padding: .5ex;\n",
       "  margin: .5ex;\n",
       "  width: min-content;\n",
       "  min-width: 20ex;\n",
       "  max-width: 50ex;\n",
       "  color: var(--sklearn-color-text);\n",
       "  box-shadow: 2pt 2pt 4pt #999;\n",
       "  /* unfitted */\n",
       "  background: var(--sklearn-color-unfitted-level-0);\n",
       "  border: .5pt solid var(--sklearn-color-unfitted-level-3);\n",
       "}\n",
       "\n",
       ".sk-estimator-doc-link.fitted span {\n",
       "  /* fitted */\n",
       "  background: var(--sklearn-color-fitted-level-0);\n",
       "  border: var(--sklearn-color-fitted-level-3);\n",
       "}\n",
       "\n",
       ".sk-estimator-doc-link:hover span {\n",
       "  display: block;\n",
       "}\n",
       "\n",
       "/* \"?\"-specific style due to the `<a>` HTML tag */\n",
       "\n",
       "#sk-container-id-1 a.estimator_doc_link {\n",
       "  float: right;\n",
       "  font-size: 1rem;\n",
       "  line-height: 1em;\n",
       "  font-family: monospace;\n",
       "  background-color: var(--sklearn-color-background);\n",
       "  border-radius: 1rem;\n",
       "  height: 1rem;\n",
       "  width: 1rem;\n",
       "  text-decoration: none;\n",
       "  /* unfitted */\n",
       "  color: var(--sklearn-color-unfitted-level-1);\n",
       "  border: var(--sklearn-color-unfitted-level-1) 1pt solid;\n",
       "}\n",
       "\n",
       "#sk-container-id-1 a.estimator_doc_link.fitted {\n",
       "  /* fitted */\n",
       "  border: var(--sklearn-color-fitted-level-1) 1pt solid;\n",
       "  color: var(--sklearn-color-fitted-level-1);\n",
       "}\n",
       "\n",
       "/* On hover */\n",
       "#sk-container-id-1 a.estimator_doc_link:hover {\n",
       "  /* unfitted */\n",
       "  background-color: var(--sklearn-color-unfitted-level-3);\n",
       "  color: var(--sklearn-color-background);\n",
       "  text-decoration: none;\n",
       "}\n",
       "\n",
       "#sk-container-id-1 a.estimator_doc_link.fitted:hover {\n",
       "  /* fitted */\n",
       "  background-color: var(--sklearn-color-fitted-level-3);\n",
       "}\n",
       "</style><div id=\"sk-container-id-1\" class=\"sk-top-container\"><div class=\"sk-text-repr-fallback\"><pre>ColumnTransformer(remainder=&#x27;passthrough&#x27;,\n",
       "                  transformers=[(&#x27;num&#x27;,\n",
       "                                 Pipeline(steps=[(&#x27;imputer&#x27;,\n",
       "                                                  SimpleImputer(strategy=&#x27;median&#x27;)),\n",
       "                                                 (&#x27;scaler&#x27;, StandardScaler())]),\n",
       "                                 [&#x27;idade&#x27;, &#x27;taxa_engajamento&#x27;,\n",
       "                                  &#x27;pviews_por_visitas&#x27;, &#x27;frequencia_visitas&#x27;,\n",
       "                                  &#x27;blog_cartola&#x27;, &#x27;horas_engajamento_futebol&#x27;,\n",
       "                                  &#x27;horas_engajamento_outros_esportes&#x27;,\n",
       "                                  &#x27;horas_engajamento_home&#x27;])])</pre><b>In a Jupyter environment, please rerun this cell to show the HTML representation or trust the notebook. <br />On GitHub, the HTML representation is unable to render, please try loading this page with nbviewer.org.</b></div><div class=\"sk-container\" hidden><div class=\"sk-item sk-dashed-wrapped\"><div class=\"sk-label-container\"><div class=\"sk-label  sk-toggleable\"><input class=\"sk-toggleable__control sk-hidden--visually\" id=\"sk-estimator-id-1\" type=\"checkbox\" ><label for=\"sk-estimator-id-1\" class=\"sk-toggleable__label  sk-toggleable__label-arrow \">&nbsp;&nbsp;ColumnTransformer<a class=\"sk-estimator-doc-link \" rel=\"noreferrer\" target=\"_blank\" href=\"https://scikit-learn.org/1.5/modules/generated/sklearn.compose.ColumnTransformer.html\">?<span>Documentation for ColumnTransformer</span></a><span class=\"sk-estimator-doc-link \">i<span>Not fitted</span></span></label><div class=\"sk-toggleable__content \"><pre>ColumnTransformer(remainder=&#x27;passthrough&#x27;,\n",
       "                  transformers=[(&#x27;num&#x27;,\n",
       "                                 Pipeline(steps=[(&#x27;imputer&#x27;,\n",
       "                                                  SimpleImputer(strategy=&#x27;median&#x27;)),\n",
       "                                                 (&#x27;scaler&#x27;, StandardScaler())]),\n",
       "                                 [&#x27;idade&#x27;, &#x27;taxa_engajamento&#x27;,\n",
       "                                  &#x27;pviews_por_visitas&#x27;, &#x27;frequencia_visitas&#x27;,\n",
       "                                  &#x27;blog_cartola&#x27;, &#x27;horas_engajamento_futebol&#x27;,\n",
       "                                  &#x27;horas_engajamento_outros_esportes&#x27;,\n",
       "                                  &#x27;horas_engajamento_home&#x27;])])</pre></div> </div></div><div class=\"sk-parallel\"><div class=\"sk-parallel-item\"><div class=\"sk-item\"><div class=\"sk-label-container\"><div class=\"sk-label  sk-toggleable\"><input class=\"sk-toggleable__control sk-hidden--visually\" id=\"sk-estimator-id-2\" type=\"checkbox\" ><label for=\"sk-estimator-id-2\" class=\"sk-toggleable__label  sk-toggleable__label-arrow \">num</label><div class=\"sk-toggleable__content \"><pre>[&#x27;idade&#x27;, &#x27;taxa_engajamento&#x27;, &#x27;pviews_por_visitas&#x27;, &#x27;frequencia_visitas&#x27;, &#x27;blog_cartola&#x27;, &#x27;horas_engajamento_futebol&#x27;, &#x27;horas_engajamento_outros_esportes&#x27;, &#x27;horas_engajamento_home&#x27;]</pre></div> </div></div><div class=\"sk-serial\"><div class=\"sk-item\"><div class=\"sk-serial\"><div class=\"sk-item\"><div class=\"sk-estimator  sk-toggleable\"><input class=\"sk-toggleable__control sk-hidden--visually\" id=\"sk-estimator-id-3\" type=\"checkbox\" ><label for=\"sk-estimator-id-3\" class=\"sk-toggleable__label  sk-toggleable__label-arrow \">&nbsp;SimpleImputer<a class=\"sk-estimator-doc-link \" rel=\"noreferrer\" target=\"_blank\" href=\"https://scikit-learn.org/1.5/modules/generated/sklearn.impute.SimpleImputer.html\">?<span>Documentation for SimpleImputer</span></a></label><div class=\"sk-toggleable__content \"><pre>SimpleImputer(strategy=&#x27;median&#x27;)</pre></div> </div></div><div class=\"sk-item\"><div class=\"sk-estimator  sk-toggleable\"><input class=\"sk-toggleable__control sk-hidden--visually\" id=\"sk-estimator-id-4\" type=\"checkbox\" ><label for=\"sk-estimator-id-4\" class=\"sk-toggleable__label  sk-toggleable__label-arrow \">&nbsp;StandardScaler<a class=\"sk-estimator-doc-link \" rel=\"noreferrer\" target=\"_blank\" href=\"https://scikit-learn.org/1.5/modules/generated/sklearn.preprocessing.StandardScaler.html\">?<span>Documentation for StandardScaler</span></a></label><div class=\"sk-toggleable__content \"><pre>StandardScaler()</pre></div> </div></div></div></div></div></div></div><div class=\"sk-parallel-item\"><div class=\"sk-item\"><div class=\"sk-label-container\"><div class=\"sk-label  sk-toggleable\"><input class=\"sk-toggleable__control sk-hidden--visually\" id=\"sk-estimator-id-5\" type=\"checkbox\" ><label for=\"sk-estimator-id-5\" class=\"sk-toggleable__label  sk-toggleable__label-arrow \">remainder</label><div class=\"sk-toggleable__content \"><pre></pre></div> </div></div><div class=\"sk-serial\"><div class=\"sk-item\"><div class=\"sk-estimator  sk-toggleable\"><input class=\"sk-toggleable__control sk-hidden--visually\" id=\"sk-estimator-id-6\" type=\"checkbox\" ><label for=\"sk-estimator-id-6\" class=\"sk-toggleable__label  sk-toggleable__label-arrow \">passthrough</label><div class=\"sk-toggleable__content \"><pre>passthrough</pre></div> </div></div></div></div></div></div></div></div></div>"
      ],
      "text/plain": [
       "ColumnTransformer(remainder='passthrough',\n",
       "                  transformers=[('num',\n",
       "                                 Pipeline(steps=[('imputer',\n",
       "                                                  SimpleImputer(strategy='median')),\n",
       "                                                 ('scaler', StandardScaler())]),\n",
       "                                 ['idade', 'taxa_engajamento',\n",
       "                                  'pviews_por_visitas', 'frequencia_visitas',\n",
       "                                  'blog_cartola', 'horas_engajamento_futebol',\n",
       "                                  'horas_engajamento_outros_esportes',\n",
       "                                  'horas_engajamento_home'])])"
      ]
     },
     "execution_count": 13,
     "metadata": {},
     "output_type": "execute_result"
    }
   ],
   "source": [
    "# Define as colunas para cada tipo de transformação\n",
    "cols_num = [\n",
    "    'idade',\n",
    "    'taxa_engajamento',\n",
    "    'pviews_por_visitas',\n",
    "    'frequencia_visitas',\n",
    "    'blog_cartola',\n",
    "    'horas_engajamento_futebol',\n",
    "    'horas_engajamento_outros_esportes',\n",
    "    'horas_engajamento_home',\n",
    "]\n",
    "\n",
    "\n",
    "# Pipeline para variáveis numéricas\n",
    "numeric_transformer = Pipeline(steps=[\n",
    "    ('imputer', SimpleImputer(strategy='median')),  # Primeiro trata missing\n",
    "    ('scaler', StandardScaler())                    # Depois faz a padronização\n",
    "])\n",
    "\n",
    "# Pipeline para variáveis categóricas\n",
    "categorical_transformer = Pipeline(steps=[\n",
    "    ('imputer', SimpleImputer(strategy='constant', fill_value='missing')),  # Primeiro trata missing\n",
    "    ('onehot', OneHotEncoder(drop='first', sparse_output=False))            # Depois faz o encoding\n",
    "])\n",
    "\n",
    "\n",
    "# Cria o preprocessador completo usando ColumnTransformer\n",
    "preprocessor = ColumnTransformer(\n",
    "    transformers=[\n",
    "        ('num', numeric_transformer, cols_num),\n",
    "        # ('cat', categorical_transformer, cols_cat),\n",
    "    ],\n",
    "    remainder='passthrough'\n",
    ")\n",
    "\n",
    "preprocessor"
   ]
  },
  {
   "cell_type": "markdown",
   "metadata": {},
   "source": [
    "Para avaliar o resultado da saída do pré-processamento, basta descomentar as linhas abaixo:"
   ]
  },
  {
   "cell_type": "code",
   "execution_count": 14,
   "metadata": {},
   "outputs": [],
   "source": [
    "# # treinando\n",
    "# df_test_preprocessor = X_val.head().copy()\n",
    "# preprocessor.fit_transform(X_train)\n",
    "\n",
    "# # transformação\n",
    "# test_preprocessor_transformed = preprocessor.transform(df_test_preprocessor)\n",
    "\n",
    "# df_test_preprocessor_transformed = pd.DataFrame(\n",
    "#     data=test_preprocessor_transformed,\n",
    "#     columns=preprocessor.get_feature_names_out()  # Ajuste conforme seu pipeline\n",
    "# )\n",
    "\n",
    "# display(df_test_preprocessor)\n",
    "# display(df_test_preprocessor_transformed)"
   ]
  },
  {
   "cell_type": "markdown",
   "metadata": {},
   "source": [
    "# Experimentos\n",
    "\n",
    "Objetivo: Ajustar um modelo preditivo simples para identificar os perfis de usuários propensos a assinarem o \n",
    "Cartola"
   ]
  },
  {
   "cell_type": "code",
   "execution_count": 15,
   "metadata": {},
   "outputs": [
    {
     "name": "stderr",
     "output_type": "stream",
     "text": [
      "c:\\Users\\victo\\Documents\\recrutamento_globo\\case_tecnico\\venv\\lib\\site-packages\\tqdm\\auto.py:21: TqdmWarning: IProgress not found. Please update jupyter and ipywidgets. See https://ipywidgets.readthedocs.io/en/stable/user_install.html\n",
      "  from .autonotebook import tqdm as notebook_tqdm\n"
     ]
    }
   ],
   "source": [
    "\n",
    "from sklearn.model_selection import StratifiedKFold, cross_validate\n",
    "from sklearn.metrics import make_scorer, precision_score, recall_score, f1_score, roc_auc_score, precision_recall_curve, auc\n",
    "from sklearn.tree import DecisionTreeClassifier\n",
    "from sklearn.ensemble import RandomForestClassifier, GradientBoostingClassifier\n",
    "from sklearn.linear_model import LogisticRegression\n",
    "from xgboost import XGBClassifier\n",
    "from lightgbm import LGBMClassifier\n",
    "\n",
    "import optuna"
   ]
  },
  {
   "cell_type": "code",
   "execution_count": 16,
   "metadata": {},
   "outputs": [],
   "source": [
    "def plot_precision_recall_curve(y_true: np.ndarray, y_pred: np.ndarray, title: str = 'Precision-Recall Curve') -> None:\n",
    "    \"\"\"\n",
    "    Plots the precision-recall curve for a binary classification model.\n",
    "\n",
    "    Parameters:\n",
    "        y_true (numpy.ndarray): True binary labels.\n",
    "        y_pred (numpy.ndarray): Predicted probabilities or confidence scores for positive class.\n",
    "        title (str, optional): Title for the plot. Defaults to 'Precision-Recall Curve'.\n",
    "\n",
    "    Returns:\n",
    "        None\n",
    "    \"\"\"\n",
    "    precision, recall, thresholds = precision_recall_curve(y_true, y_pred)\n",
    "    auc_score = auc(recall, precision)\n",
    "\n",
    "    plt.plot(recall, precision, label=f'Precision-Recall curve (AUC = {auc_score:.2f})')\n",
    "    plt.xlabel('Recall')\n",
    "    plt.ylabel('Precision')\n",
    "    plt.ylim([0.0, 1.05])\n",
    "    plt.xlim([0.0, 1.0])\n",
    "    plt.legend(loc=\"lower left\")\n",
    "    plt.show()"
   ]
  },
  {
   "cell_type": "code",
   "execution_count": 17,
   "metadata": {},
   "outputs": [
    {
     "data": {
      "text/plain": [
       "{0.0: 0.513041945717307, 1.0: 19.66891891891892}"
      ]
     },
     "execution_count": 17,
     "metadata": {},
     "output_type": "execute_result"
    }
   ],
   "source": [
    "# Calcula os pesos para os dados de treino\n",
    "class_weights = get_normalized_class_weights(y_train)\n",
    "class_weights"
   ]
  },
  {
   "cell_type": "code",
   "execution_count": 18,
   "metadata": {},
   "outputs": [
    {
     "data": {
      "text/plain": [
       "38"
      ]
     },
     "execution_count": 18,
     "metadata": {},
     "output_type": "execute_result"
    }
   ],
   "source": [
    "# calculando o scale pos weights\n",
    "scale_pos_weight = int(class_weights[1] / class_weights[0])\n",
    "scale_pos_weight"
   ]
  },
  {
   "cell_type": "code",
   "execution_count": 19,
   "metadata": {},
   "outputs": [],
   "source": [
    "# simples função para chamar o Model Evaluator\n",
    "def fit_evaluate(model, X_train, y_train, X_val, y_val, th=0.5):\n",
    "    model.fit(X_train, y_train);\n",
    "\n",
    "    train_results = ModelEvaluator(model, X_train, y_train, th=th)\n",
    "    display(train_results.evaluate())\n",
    "\n",
    "    # Avaliação no conjunto de validação\n",
    "    val_results = ModelEvaluator(model, X_val, y_val, th=th)\n",
    "    display(val_results.evaluate())"
   ]
  },
  {
   "cell_type": "markdown",
   "metadata": {},
   "source": [
    "## Logistic Regression"
   ]
  },
  {
   "cell_type": "code",
   "execution_count": 20,
   "metadata": {},
   "outputs": [
    {
     "data": {
      "text/html": [
       "<div>\n",
       "<style scoped>\n",
       "    .dataframe tbody tr th:only-of-type {\n",
       "        vertical-align: middle;\n",
       "    }\n",
       "\n",
       "    .dataframe tbody tr th {\n",
       "        vertical-align: top;\n",
       "    }\n",
       "\n",
       "    .dataframe thead th {\n",
       "        text-align: right;\n",
       "    }\n",
       "</style>\n",
       "<table border=\"1\" class=\"dataframe\">\n",
       "  <thead>\n",
       "    <tr style=\"text-align: right;\">\n",
       "      <th></th>\n",
       "      <th>AUC</th>\n",
       "      <th>PRECISION</th>\n",
       "      <th>RECALL</th>\n",
       "      <th>LOGLOSS</th>\n",
       "      <th>F1</th>\n",
       "      <th>ACCURACY</th>\n",
       "    </tr>\n",
       "  </thead>\n",
       "  <tbody>\n",
       "    <tr>\n",
       "      <th>0</th>\n",
       "      <td>64.4</td>\n",
       "      <td>5.1</td>\n",
       "      <td>55.95</td>\n",
       "      <td>993.77</td>\n",
       "      <td>9.35</td>\n",
       "      <td>72.43</td>\n",
       "    </tr>\n",
       "  </tbody>\n",
       "</table>\n",
       "</div>"
      ],
      "text/plain": [
       "    AUC  PRECISION  RECALL  LOGLOSS    F1  ACCURACY\n",
       "0  64.4        5.1   55.95   993.77  9.35     72.43"
      ]
     },
     "metadata": {},
     "output_type": "display_data"
    },
    {
     "data": {
      "text/html": [
       "<div>\n",
       "<style scoped>\n",
       "    .dataframe tbody tr th:only-of-type {\n",
       "        vertical-align: middle;\n",
       "    }\n",
       "\n",
       "    .dataframe tbody tr th {\n",
       "        vertical-align: top;\n",
       "    }\n",
       "\n",
       "    .dataframe thead th {\n",
       "        text-align: right;\n",
       "    }\n",
       "</style>\n",
       "<table border=\"1\" class=\"dataframe\">\n",
       "  <thead>\n",
       "    <tr style=\"text-align: right;\">\n",
       "      <th></th>\n",
       "      <th>AUC</th>\n",
       "      <th>PRECISION</th>\n",
       "      <th>RECALL</th>\n",
       "      <th>LOGLOSS</th>\n",
       "      <th>F1</th>\n",
       "      <th>ACCURACY</th>\n",
       "    </tr>\n",
       "  </thead>\n",
       "  <tbody>\n",
       "    <tr>\n",
       "      <th>0</th>\n",
       "      <td>63.63</td>\n",
       "      <td>5.64</td>\n",
       "      <td>54.72</td>\n",
       "      <td>1008.31</td>\n",
       "      <td>10.23</td>\n",
       "      <td>72.03</td>\n",
       "    </tr>\n",
       "  </tbody>\n",
       "</table>\n",
       "</div>"
      ],
      "text/plain": [
       "     AUC  PRECISION  RECALL  LOGLOSS     F1  ACCURACY\n",
       "0  63.63       5.64   54.72  1008.31  10.23     72.03"
      ]
     },
     "metadata": {},
     "output_type": "display_data"
    }
   ],
   "source": [
    "lr_model = Pipeline([\n",
    "            ('preprocessor', preprocessor),\n",
    "            ('classifier', LogisticRegression(\n",
    "                class_weight=class_weights, \n",
    "                max_iter=2000, \n",
    "                random_state=42\n",
    "            ))\n",
    "        ])\n",
    "\n",
    "fit_evaluate(lr_model, X_train=X_train, y_train=y_train, X_val=X_val, y_val=y_val)"
   ]
  },
  {
   "cell_type": "code",
   "execution_count": 21,
   "metadata": {},
   "outputs": [
    {
     "data": {
      "text/html": [
       "<div>\n",
       "<style scoped>\n",
       "    .dataframe tbody tr th:only-of-type {\n",
       "        vertical-align: middle;\n",
       "    }\n",
       "\n",
       "    .dataframe tbody tr th {\n",
       "        vertical-align: top;\n",
       "    }\n",
       "\n",
       "    .dataframe thead th {\n",
       "        text-align: right;\n",
       "    }\n",
       "</style>\n",
       "<table border=\"1\" class=\"dataframe\">\n",
       "  <thead>\n",
       "    <tr style=\"text-align: right;\">\n",
       "      <th></th>\n",
       "      <th>AUC</th>\n",
       "      <th>PRECISION</th>\n",
       "      <th>RECALL</th>\n",
       "      <th>LOGLOSS</th>\n",
       "      <th>F1</th>\n",
       "      <th>ACCURACY</th>\n",
       "    </tr>\n",
       "  </thead>\n",
       "  <tbody>\n",
       "    <tr>\n",
       "      <th>0</th>\n",
       "      <td>66.02</td>\n",
       "      <td>4.68</td>\n",
       "      <td>68.38</td>\n",
       "      <td>1305.55</td>\n",
       "      <td>8.76</td>\n",
       "      <td>63.78</td>\n",
       "    </tr>\n",
       "  </tbody>\n",
       "</table>\n",
       "</div>"
      ],
      "text/plain": [
       "     AUC  PRECISION  RECALL  LOGLOSS    F1  ACCURACY\n",
       "0  66.02       4.68   68.38  1305.55  8.76     63.78"
      ]
     },
     "metadata": {},
     "output_type": "display_data"
    },
    {
     "data": {
      "text/html": [
       "<div>\n",
       "<style scoped>\n",
       "    .dataframe tbody tr th:only-of-type {\n",
       "        vertical-align: middle;\n",
       "    }\n",
       "\n",
       "    .dataframe tbody tr th {\n",
       "        vertical-align: top;\n",
       "    }\n",
       "\n",
       "    .dataframe thead th {\n",
       "        text-align: right;\n",
       "    }\n",
       "</style>\n",
       "<table border=\"1\" class=\"dataframe\">\n",
       "  <thead>\n",
       "    <tr style=\"text-align: right;\">\n",
       "      <th></th>\n",
       "      <th>AUC</th>\n",
       "      <th>PRECISION</th>\n",
       "      <th>RECALL</th>\n",
       "      <th>LOGLOSS</th>\n",
       "      <th>F1</th>\n",
       "      <th>ACCURACY</th>\n",
       "    </tr>\n",
       "  </thead>\n",
       "  <tbody>\n",
       "    <tr>\n",
       "      <th>0</th>\n",
       "      <td>64.42</td>\n",
       "      <td>5.06</td>\n",
       "      <td>66.04</td>\n",
       "      <td>1337.15</td>\n",
       "      <td>9.4</td>\n",
       "      <td>62.9</td>\n",
       "    </tr>\n",
       "  </tbody>\n",
       "</table>\n",
       "</div>"
      ],
      "text/plain": [
       "     AUC  PRECISION  RECALL  LOGLOSS   F1  ACCURACY\n",
       "0  64.42       5.06   66.04  1337.15  9.4      62.9"
      ]
     },
     "metadata": {},
     "output_type": "display_data"
    }
   ],
   "source": [
    "lr_model = Pipeline([\n",
    "            ('preprocessor', preprocessor),\n",
    "            ('classifier', LogisticRegression(\n",
    "                class_weight=class_weights, \n",
    "                max_iter=2000, \n",
    "                random_state=42\n",
    "            ))\n",
    "        ])\n",
    "\n",
    "fit_evaluate(lr_model, X_train=X_train, y_train=y_train, X_val=X_val, y_val=y_val, th=0.45)"
   ]
  },
  {
   "cell_type": "markdown",
   "metadata": {},
   "source": [
    "## Decision Trees"
   ]
  },
  {
   "cell_type": "code",
   "execution_count": 22,
   "metadata": {},
   "outputs": [
    {
     "data": {
      "text/html": [
       "<div>\n",
       "<style scoped>\n",
       "    .dataframe tbody tr th:only-of-type {\n",
       "        vertical-align: middle;\n",
       "    }\n",
       "\n",
       "    .dataframe tbody tr th {\n",
       "        vertical-align: top;\n",
       "    }\n",
       "\n",
       "    .dataframe thead th {\n",
       "        text-align: right;\n",
       "    }\n",
       "</style>\n",
       "<table border=\"1\" class=\"dataframe\">\n",
       "  <thead>\n",
       "    <tr style=\"text-align: right;\">\n",
       "      <th></th>\n",
       "      <th>AUC</th>\n",
       "      <th>PRECISION</th>\n",
       "      <th>RECALL</th>\n",
       "      <th>LOGLOSS</th>\n",
       "      <th>F1</th>\n",
       "      <th>ACCURACY</th>\n",
       "    </tr>\n",
       "  </thead>\n",
       "  <tbody>\n",
       "    <tr>\n",
       "      <th>0</th>\n",
       "      <td>71.73</td>\n",
       "      <td>5.65</td>\n",
       "      <td>77.03</td>\n",
       "      <td>1200.05</td>\n",
       "      <td>10.52</td>\n",
       "      <td>66.71</td>\n",
       "    </tr>\n",
       "  </tbody>\n",
       "</table>\n",
       "</div>"
      ],
      "text/plain": [
       "     AUC  PRECISION  RECALL  LOGLOSS     F1  ACCURACY\n",
       "0  71.73       5.65   77.03  1200.05  10.52     66.71"
      ]
     },
     "metadata": {},
     "output_type": "display_data"
    },
    {
     "data": {
      "text/html": [
       "<div>\n",
       "<style scoped>\n",
       "    .dataframe tbody tr th:only-of-type {\n",
       "        vertical-align: middle;\n",
       "    }\n",
       "\n",
       "    .dataframe tbody tr th {\n",
       "        vertical-align: top;\n",
       "    }\n",
       "\n",
       "    .dataframe thead th {\n",
       "        text-align: right;\n",
       "    }\n",
       "</style>\n",
       "<table border=\"1\" class=\"dataframe\">\n",
       "  <thead>\n",
       "    <tr style=\"text-align: right;\">\n",
       "      <th></th>\n",
       "      <th>AUC</th>\n",
       "      <th>PRECISION</th>\n",
       "      <th>RECALL</th>\n",
       "      <th>LOGLOSS</th>\n",
       "      <th>F1</th>\n",
       "      <th>ACCURACY</th>\n",
       "    </tr>\n",
       "  </thead>\n",
       "  <tbody>\n",
       "    <tr>\n",
       "      <th>0</th>\n",
       "      <td>60.08</td>\n",
       "      <td>4.49</td>\n",
       "      <td>55.66</td>\n",
       "      <td>1288.62</td>\n",
       "      <td>8.32</td>\n",
       "      <td>64.25</td>\n",
       "    </tr>\n",
       "  </tbody>\n",
       "</table>\n",
       "</div>"
      ],
      "text/plain": [
       "     AUC  PRECISION  RECALL  LOGLOSS    F1  ACCURACY\n",
       "0  60.08       4.49   55.66  1288.62  8.32     64.25"
      ]
     },
     "metadata": {},
     "output_type": "display_data"
    }
   ],
   "source": [
    "dt_model = Pipeline([\n",
    "            ('preprocessor', preprocessor),\n",
    "            ('classifier', DecisionTreeClassifier(\n",
    "                max_depth=5,\n",
    "                class_weight=class_weights, \n",
    "                random_state=42\n",
    "            ))\n",
    "        ])\n",
    "\n",
    "fit_evaluate(dt_model, X_train=X_train, y_train=y_train, X_val=X_val, y_val=y_val)"
   ]
  },
  {
   "cell_type": "code",
   "execution_count": 23,
   "metadata": {},
   "outputs": [
    {
     "data": {
      "text/html": [
       "<div>\n",
       "<style scoped>\n",
       "    .dataframe tbody tr th:only-of-type {\n",
       "        vertical-align: middle;\n",
       "    }\n",
       "\n",
       "    .dataframe tbody tr th {\n",
       "        vertical-align: top;\n",
       "    }\n",
       "\n",
       "    .dataframe thead th {\n",
       "        text-align: right;\n",
       "    }\n",
       "</style>\n",
       "<table border=\"1\" class=\"dataframe\">\n",
       "  <thead>\n",
       "    <tr style=\"text-align: right;\">\n",
       "      <th></th>\n",
       "      <th>AUC</th>\n",
       "      <th>PRECISION</th>\n",
       "      <th>RECALL</th>\n",
       "      <th>LOGLOSS</th>\n",
       "      <th>F1</th>\n",
       "      <th>ACCURACY</th>\n",
       "    </tr>\n",
       "  </thead>\n",
       "  <tbody>\n",
       "    <tr>\n",
       "      <th>0</th>\n",
       "      <td>71.0</td>\n",
       "      <td>4.72</td>\n",
       "      <td>88.65</td>\n",
       "      <td>1649.02</td>\n",
       "      <td>8.97</td>\n",
       "      <td>54.25</td>\n",
       "    </tr>\n",
       "  </tbody>\n",
       "</table>\n",
       "</div>"
      ],
      "text/plain": [
       "    AUC  PRECISION  RECALL  LOGLOSS    F1  ACCURACY\n",
       "0  71.0       4.72   88.65  1649.02  8.97     54.25"
      ]
     },
     "metadata": {},
     "output_type": "display_data"
    },
    {
     "data": {
      "text/html": [
       "<div>\n",
       "<style scoped>\n",
       "    .dataframe tbody tr th:only-of-type {\n",
       "        vertical-align: middle;\n",
       "    }\n",
       "\n",
       "    .dataframe tbody tr th {\n",
       "        vertical-align: top;\n",
       "    }\n",
       "\n",
       "    .dataframe thead th {\n",
       "        text-align: right;\n",
       "    }\n",
       "</style>\n",
       "<table border=\"1\" class=\"dataframe\">\n",
       "  <thead>\n",
       "    <tr style=\"text-align: right;\">\n",
       "      <th></th>\n",
       "      <th>AUC</th>\n",
       "      <th>PRECISION</th>\n",
       "      <th>RECALL</th>\n",
       "      <th>LOGLOSS</th>\n",
       "      <th>F1</th>\n",
       "      <th>ACCURACY</th>\n",
       "    </tr>\n",
       "  </thead>\n",
       "  <tbody>\n",
       "    <tr>\n",
       "      <th>0</th>\n",
       "      <td>59.18</td>\n",
       "      <td>3.97</td>\n",
       "      <td>66.98</td>\n",
       "      <td>1736.32</td>\n",
       "      <td>7.49</td>\n",
       "      <td>51.83</td>\n",
       "    </tr>\n",
       "  </tbody>\n",
       "</table>\n",
       "</div>"
      ],
      "text/plain": [
       "     AUC  PRECISION  RECALL  LOGLOSS    F1  ACCURACY\n",
       "0  59.18       3.97   66.98  1736.32  7.49     51.83"
      ]
     },
     "metadata": {},
     "output_type": "display_data"
    }
   ],
   "source": [
    "dt_model = Pipeline([\n",
    "            ('preprocessor', preprocessor),\n",
    "            ('classifier', DecisionTreeClassifier(\n",
    "                max_depth=5,\n",
    "                class_weight=class_weights, \n",
    "                random_state=42\n",
    "            ))\n",
    "        ])\n",
    "\n",
    "fit_evaluate(dt_model, X_train=X_train, y_train=y_train, X_val=X_val, y_val=y_val, th=0.45)"
   ]
  },
  {
   "cell_type": "markdown",
   "metadata": {},
   "source": [
    "## RandomForest"
   ]
  },
  {
   "cell_type": "code",
   "execution_count": 24,
   "metadata": {},
   "outputs": [
    {
     "data": {
      "text/html": [
       "<div>\n",
       "<style scoped>\n",
       "    .dataframe tbody tr th:only-of-type {\n",
       "        vertical-align: middle;\n",
       "    }\n",
       "\n",
       "    .dataframe tbody tr th {\n",
       "        vertical-align: top;\n",
       "    }\n",
       "\n",
       "    .dataframe thead th {\n",
       "        text-align: right;\n",
       "    }\n",
       "</style>\n",
       "<table border=\"1\" class=\"dataframe\">\n",
       "  <thead>\n",
       "    <tr style=\"text-align: right;\">\n",
       "      <th></th>\n",
       "      <th>AUC</th>\n",
       "      <th>PRECISION</th>\n",
       "      <th>RECALL</th>\n",
       "      <th>LOGLOSS</th>\n",
       "      <th>F1</th>\n",
       "      <th>ACCURACY</th>\n",
       "    </tr>\n",
       "  </thead>\n",
       "  <tbody>\n",
       "    <tr>\n",
       "      <th>0</th>\n",
       "      <td>73.75</td>\n",
       "      <td>7.4</td>\n",
       "      <td>70.54</td>\n",
       "      <td>836.02</td>\n",
       "      <td>13.39</td>\n",
       "      <td>76.81</td>\n",
       "    </tr>\n",
       "  </tbody>\n",
       "</table>\n",
       "</div>"
      ],
      "text/plain": [
       "     AUC  PRECISION  RECALL  LOGLOSS     F1  ACCURACY\n",
       "0  73.75        7.4   70.54   836.02  13.39     76.81"
      ]
     },
     "metadata": {},
     "output_type": "display_data"
    },
    {
     "data": {
      "text/html": [
       "<div>\n",
       "<style scoped>\n",
       "    .dataframe tbody tr th:only-of-type {\n",
       "        vertical-align: middle;\n",
       "    }\n",
       "\n",
       "    .dataframe tbody tr th {\n",
       "        vertical-align: top;\n",
       "    }\n",
       "\n",
       "    .dataframe thead th {\n",
       "        text-align: right;\n",
       "    }\n",
       "</style>\n",
       "<table border=\"1\" class=\"dataframe\">\n",
       "  <thead>\n",
       "    <tr style=\"text-align: right;\">\n",
       "      <th></th>\n",
       "      <th>AUC</th>\n",
       "      <th>PRECISION</th>\n",
       "      <th>RECALL</th>\n",
       "      <th>LOGLOSS</th>\n",
       "      <th>F1</th>\n",
       "      <th>ACCURACY</th>\n",
       "    </tr>\n",
       "  </thead>\n",
       "  <tbody>\n",
       "    <tr>\n",
       "      <th>0</th>\n",
       "      <td>62.41</td>\n",
       "      <td>5.73</td>\n",
       "      <td>49.06</td>\n",
       "      <td>901.34</td>\n",
       "      <td>10.26</td>\n",
       "      <td>74.99</td>\n",
       "    </tr>\n",
       "  </tbody>\n",
       "</table>\n",
       "</div>"
      ],
      "text/plain": [
       "     AUC  PRECISION  RECALL  LOGLOSS     F1  ACCURACY\n",
       "0  62.41       5.73   49.06   901.34  10.26     74.99"
      ]
     },
     "metadata": {},
     "output_type": "display_data"
    }
   ],
   "source": [
    "rf_model = Pipeline([\n",
    "            ('preprocessor', preprocessor),\n",
    "            ('classifier', RandomForestClassifier(\n",
    "                max_depth=5,\n",
    "                class_weight=class_weights, \n",
    "                random_state=42\n",
    "            ))\n",
    "        ])\n",
    "\n",
    "fit_evaluate(rf_model, X_train=X_train, y_train=y_train, X_val=X_val, y_val=y_val, th=0.5)"
   ]
  },
  {
   "cell_type": "code",
   "execution_count": 25,
   "metadata": {},
   "outputs": [
    {
     "data": {
      "text/html": [
       "<div>\n",
       "<style scoped>\n",
       "    .dataframe tbody tr th:only-of-type {\n",
       "        vertical-align: middle;\n",
       "    }\n",
       "\n",
       "    .dataframe tbody tr th {\n",
       "        vertical-align: top;\n",
       "    }\n",
       "\n",
       "    .dataframe thead th {\n",
       "        text-align: right;\n",
       "    }\n",
       "</style>\n",
       "<table border=\"1\" class=\"dataframe\">\n",
       "  <thead>\n",
       "    <tr style=\"text-align: right;\">\n",
       "      <th></th>\n",
       "      <th>AUC</th>\n",
       "      <th>PRECISION</th>\n",
       "      <th>RECALL</th>\n",
       "      <th>LOGLOSS</th>\n",
       "      <th>F1</th>\n",
       "      <th>ACCURACY</th>\n",
       "    </tr>\n",
       "  </thead>\n",
       "  <tbody>\n",
       "    <tr>\n",
       "      <th>0</th>\n",
       "      <td>74.48</td>\n",
       "      <td>6.21</td>\n",
       "      <td>80.81</td>\n",
       "      <td>1136.16</td>\n",
       "      <td>11.53</td>\n",
       "      <td>68.48</td>\n",
       "    </tr>\n",
       "  </tbody>\n",
       "</table>\n",
       "</div>"
      ],
      "text/plain": [
       "     AUC  PRECISION  RECALL  LOGLOSS     F1  ACCURACY\n",
       "0  74.48       6.21   80.81  1136.16  11.53     68.48"
      ]
     },
     "metadata": {},
     "output_type": "display_data"
    },
    {
     "data": {
      "text/html": [
       "<div>\n",
       "<style scoped>\n",
       "    .dataframe tbody tr th:only-of-type {\n",
       "        vertical-align: middle;\n",
       "    }\n",
       "\n",
       "    .dataframe tbody tr th {\n",
       "        vertical-align: top;\n",
       "    }\n",
       "\n",
       "    .dataframe thead th {\n",
       "        text-align: right;\n",
       "    }\n",
       "</style>\n",
       "<table border=\"1\" class=\"dataframe\">\n",
       "  <thead>\n",
       "    <tr style=\"text-align: right;\">\n",
       "      <th></th>\n",
       "      <th>AUC</th>\n",
       "      <th>PRECISION</th>\n",
       "      <th>RECALL</th>\n",
       "      <th>LOGLOSS</th>\n",
       "      <th>F1</th>\n",
       "      <th>ACCURACY</th>\n",
       "    </tr>\n",
       "  </thead>\n",
       "  <tbody>\n",
       "    <tr>\n",
       "      <th>0</th>\n",
       "      <td>66.49</td>\n",
       "      <td>5.65</td>\n",
       "      <td>66.04</td>\n",
       "      <td>1192.54</td>\n",
       "      <td>10.42</td>\n",
       "      <td>66.91</td>\n",
       "    </tr>\n",
       "  </tbody>\n",
       "</table>\n",
       "</div>"
      ],
      "text/plain": [
       "     AUC  PRECISION  RECALL  LOGLOSS     F1  ACCURACY\n",
       "0  66.49       5.65   66.04  1192.54  10.42     66.91"
      ]
     },
     "metadata": {},
     "output_type": "display_data"
    }
   ],
   "source": [
    "rf_model = Pipeline([\n",
    "            ('preprocessor', preprocessor),\n",
    "            ('classifier', RandomForestClassifier(\n",
    "                max_depth=5,\n",
    "                class_weight=class_weights, \n",
    "                random_state=42\n",
    "            ))\n",
    "        ])\n",
    "\n",
    "fit_evaluate(rf_model, X_train=X_train, y_train=y_train, X_val=X_val, y_val=y_val, th=0.45)"
   ]
  },
  {
   "cell_type": "markdown",
   "metadata": {},
   "source": [
    "Random forest por enquanto está obtendo os melhores resultados, com o mínimo de mudança nos hiperparâmetros. \\\n",
    "Consigo não reduzir muito a f1 enquanto aumento a recall, em comparação com os outros modelos."
   ]
  },
  {
   "cell_type": "markdown",
   "metadata": {},
   "source": [
    "## XGboost\n",
    "\n",
    "**Utilizando Modelos mais robustos para finalidade de comparação**"
   ]
  },
  {
   "cell_type": "markdown",
   "metadata": {},
   "source": [
    "Alterando max depth"
   ]
  },
  {
   "cell_type": "code",
   "execution_count": 26,
   "metadata": {},
   "outputs": [
    {
     "data": {
      "text/html": [
       "<div>\n",
       "<style scoped>\n",
       "    .dataframe tbody tr th:only-of-type {\n",
       "        vertical-align: middle;\n",
       "    }\n",
       "\n",
       "    .dataframe tbody tr th {\n",
       "        vertical-align: top;\n",
       "    }\n",
       "\n",
       "    .dataframe thead th {\n",
       "        text-align: right;\n",
       "    }\n",
       "</style>\n",
       "<table border=\"1\" class=\"dataframe\">\n",
       "  <thead>\n",
       "    <tr style=\"text-align: right;\">\n",
       "      <th></th>\n",
       "      <th>AUC</th>\n",
       "      <th>PRECISION</th>\n",
       "      <th>RECALL</th>\n",
       "      <th>LOGLOSS</th>\n",
       "      <th>F1</th>\n",
       "      <th>ACCURACY</th>\n",
       "    </tr>\n",
       "  </thead>\n",
       "  <tbody>\n",
       "    <tr>\n",
       "      <th>0</th>\n",
       "      <td>96.07</td>\n",
       "      <td>35.31</td>\n",
       "      <td>96.76</td>\n",
       "      <td>165.42</td>\n",
       "      <td>51.73</td>\n",
       "      <td>95.41</td>\n",
       "    </tr>\n",
       "  </tbody>\n",
       "</table>\n",
       "</div>"
      ],
      "text/plain": [
       "     AUC  PRECISION  RECALL  LOGLOSS     F1  ACCURACY\n",
       "0  96.07      35.31   96.76   165.42  51.73     95.41"
      ]
     },
     "metadata": {},
     "output_type": "display_data"
    },
    {
     "data": {
      "text/html": [
       "<div>\n",
       "<style scoped>\n",
       "    .dataframe tbody tr th:only-of-type {\n",
       "        vertical-align: middle;\n",
       "    }\n",
       "\n",
       "    .dataframe tbody tr th {\n",
       "        vertical-align: top;\n",
       "    }\n",
       "\n",
       "    .dataframe thead th {\n",
       "        text-align: right;\n",
       "    }\n",
       "</style>\n",
       "<table border=\"1\" class=\"dataframe\">\n",
       "  <thead>\n",
       "    <tr style=\"text-align: right;\">\n",
       "      <th></th>\n",
       "      <th>AUC</th>\n",
       "      <th>PRECISION</th>\n",
       "      <th>RECALL</th>\n",
       "      <th>LOGLOSS</th>\n",
       "      <th>F1</th>\n",
       "      <th>ACCURACY</th>\n",
       "    </tr>\n",
       "  </thead>\n",
       "  <tbody>\n",
       "    <tr>\n",
       "      <th>0</th>\n",
       "      <td>56.24</td>\n",
       "      <td>8.13</td>\n",
       "      <td>18.87</td>\n",
       "      <td>309.03</td>\n",
       "      <td>11.36</td>\n",
       "      <td>91.43</td>\n",
       "    </tr>\n",
       "  </tbody>\n",
       "</table>\n",
       "</div>"
      ],
      "text/plain": [
       "     AUC  PRECISION  RECALL  LOGLOSS     F1  ACCURACY\n",
       "0  56.24       8.13   18.87   309.03  11.36     91.43"
      ]
     },
     "metadata": {},
     "output_type": "display_data"
    }
   ],
   "source": [
    "xgb_model = Pipeline([\n",
    "            ('preprocessor', preprocessor),\n",
    "            ('classifier', XGBClassifier(\n",
    "                max_depth=5,\n",
    "                objective='binary:logistic',\n",
    "                eval_metric='logloss',\n",
    "                scale_pos_weight=scale_pos_weight,\n",
    "                random_state=42\n",
    "            ))\n",
    "        ])\n",
    "fit_evaluate(xgb_model, X_train=X_train, y_train=y_train, X_val=X_val, y_val=y_val, th=0.45)"
   ]
  },
  {
   "cell_type": "markdown",
   "metadata": {},
   "source": [
    "Alterando n estimators"
   ]
  },
  {
   "cell_type": "code",
   "execution_count": 27,
   "metadata": {},
   "outputs": [
    {
     "data": {
      "text/html": [
       "<div>\n",
       "<style scoped>\n",
       "    .dataframe tbody tr th:only-of-type {\n",
       "        vertical-align: middle;\n",
       "    }\n",
       "\n",
       "    .dataframe tbody tr th {\n",
       "        vertical-align: top;\n",
       "    }\n",
       "\n",
       "    .dataframe thead th {\n",
       "        text-align: right;\n",
       "    }\n",
       "</style>\n",
       "<table border=\"1\" class=\"dataframe\">\n",
       "  <thead>\n",
       "    <tr style=\"text-align: right;\">\n",
       "      <th></th>\n",
       "      <th>AUC</th>\n",
       "      <th>PRECISION</th>\n",
       "      <th>RECALL</th>\n",
       "      <th>LOGLOSS</th>\n",
       "      <th>F1</th>\n",
       "      <th>ACCURACY</th>\n",
       "    </tr>\n",
       "  </thead>\n",
       "  <tbody>\n",
       "    <tr>\n",
       "      <th>0</th>\n",
       "      <td>97.61</td>\n",
       "      <td>55.05</td>\n",
       "      <td>97.3</td>\n",
       "      <td>75.28</td>\n",
       "      <td>70.31</td>\n",
       "      <td>97.91</td>\n",
       "    </tr>\n",
       "  </tbody>\n",
       "</table>\n",
       "</div>"
      ],
      "text/plain": [
       "     AUC  PRECISION  RECALL  LOGLOSS     F1  ACCURACY\n",
       "0  97.61      55.05    97.3    75.28  70.31     97.91"
      ]
     },
     "metadata": {},
     "output_type": "display_data"
    },
    {
     "data": {
      "text/html": [
       "<div>\n",
       "<style scoped>\n",
       "    .dataframe tbody tr th:only-of-type {\n",
       "        vertical-align: middle;\n",
       "    }\n",
       "\n",
       "    .dataframe tbody tr th {\n",
       "        vertical-align: top;\n",
       "    }\n",
       "\n",
       "    .dataframe thead th {\n",
       "        text-align: right;\n",
       "    }\n",
       "</style>\n",
       "<table border=\"1\" class=\"dataframe\">\n",
       "  <thead>\n",
       "    <tr style=\"text-align: right;\">\n",
       "      <th></th>\n",
       "      <th>AUC</th>\n",
       "      <th>PRECISION</th>\n",
       "      <th>RECALL</th>\n",
       "      <th>LOGLOSS</th>\n",
       "      <th>F1</th>\n",
       "      <th>ACCURACY</th>\n",
       "    </tr>\n",
       "  </thead>\n",
       "  <tbody>\n",
       "    <tr>\n",
       "      <th>0</th>\n",
       "      <td>52.02</td>\n",
       "      <td>5.42</td>\n",
       "      <td>8.49</td>\n",
       "      <td>251.58</td>\n",
       "      <td>6.62</td>\n",
       "      <td>93.02</td>\n",
       "    </tr>\n",
       "  </tbody>\n",
       "</table>\n",
       "</div>"
      ],
      "text/plain": [
       "     AUC  PRECISION  RECALL  LOGLOSS    F1  ACCURACY\n",
       "0  52.02       5.42    8.49   251.58  6.62     93.02"
      ]
     },
     "metadata": {},
     "output_type": "display_data"
    }
   ],
   "source": [
    "xgb_model = Pipeline([\n",
    "            ('preprocessor', preprocessor),\n",
    "            ('classifier', XGBClassifier(\n",
    "                max_depth=5,\n",
    "                n_estimators=150,\n",
    "                objective='binary:logistic',\n",
    "                eval_metric='logloss',\n",
    "                scale_pos_weight=scale_pos_weight,\n",
    "                random_state=42\n",
    "            ))\n",
    "        ])\n",
    "fit_evaluate(xgb_model, X_train=X_train, y_train=y_train, X_val=X_val, y_val=y_val, th=0.45)"
   ]
  },
  {
   "cell_type": "markdown",
   "metadata": {},
   "source": [
    "Alterando learning rate"
   ]
  },
  {
   "cell_type": "code",
   "execution_count": 28,
   "metadata": {},
   "outputs": [
    {
     "data": {
      "text/html": [
       "<div>\n",
       "<style scoped>\n",
       "    .dataframe tbody tr th:only-of-type {\n",
       "        vertical-align: middle;\n",
       "    }\n",
       "\n",
       "    .dataframe tbody tr th {\n",
       "        vertical-align: top;\n",
       "    }\n",
       "\n",
       "    .dataframe thead th {\n",
       "        text-align: right;\n",
       "    }\n",
       "</style>\n",
       "<table border=\"1\" class=\"dataframe\">\n",
       "  <thead>\n",
       "    <tr style=\"text-align: right;\">\n",
       "      <th></th>\n",
       "      <th>AUC</th>\n",
       "      <th>PRECISION</th>\n",
       "      <th>RECALL</th>\n",
       "      <th>LOGLOSS</th>\n",
       "      <th>F1</th>\n",
       "      <th>ACCURACY</th>\n",
       "    </tr>\n",
       "  </thead>\n",
       "  <tbody>\n",
       "    <tr>\n",
       "      <th>0</th>\n",
       "      <td>75.71</td>\n",
       "      <td>5.69</td>\n",
       "      <td>90.54</td>\n",
       "      <td>1382.56</td>\n",
       "      <td>10.71</td>\n",
       "      <td>61.64</td>\n",
       "    </tr>\n",
       "  </tbody>\n",
       "</table>\n",
       "</div>"
      ],
      "text/plain": [
       "     AUC  PRECISION  RECALL  LOGLOSS     F1  ACCURACY\n",
       "0  75.71       5.69   90.54  1382.56  10.71     61.64"
      ]
     },
     "metadata": {},
     "output_type": "display_data"
    },
    {
     "data": {
      "text/html": [
       "<div>\n",
       "<style scoped>\n",
       "    .dataframe tbody tr th:only-of-type {\n",
       "        vertical-align: middle;\n",
       "    }\n",
       "\n",
       "    .dataframe tbody tr th {\n",
       "        vertical-align: top;\n",
       "    }\n",
       "\n",
       "    .dataframe thead th {\n",
       "        text-align: right;\n",
       "    }\n",
       "</style>\n",
       "<table border=\"1\" class=\"dataframe\">\n",
       "  <thead>\n",
       "    <tr style=\"text-align: right;\">\n",
       "      <th></th>\n",
       "      <th>AUC</th>\n",
       "      <th>PRECISION</th>\n",
       "      <th>RECALL</th>\n",
       "      <th>LOGLOSS</th>\n",
       "      <th>F1</th>\n",
       "      <th>ACCURACY</th>\n",
       "    </tr>\n",
       "  </thead>\n",
       "  <tbody>\n",
       "    <tr>\n",
       "      <th>0</th>\n",
       "      <td>62.28</td>\n",
       "      <td>4.6</td>\n",
       "      <td>65.09</td>\n",
       "      <td>1455.02</td>\n",
       "      <td>8.59</td>\n",
       "      <td>59.63</td>\n",
       "    </tr>\n",
       "  </tbody>\n",
       "</table>\n",
       "</div>"
      ],
      "text/plain": [
       "     AUC  PRECISION  RECALL  LOGLOSS    F1  ACCURACY\n",
       "0  62.28        4.6   65.09  1455.02  8.59     59.63"
      ]
     },
     "metadata": {},
     "output_type": "display_data"
    }
   ],
   "source": [
    "xgb_model = Pipeline([\n",
    "            ('preprocessor', preprocessor),\n",
    "            ('classifier', XGBClassifier(\n",
    "                max_depth=5,\n",
    "                n_estimators=100,\n",
    "                learning_rate=0.01,\n",
    "                objective='binary:logistic',\n",
    "                eval_metric='logloss',\n",
    "                scale_pos_weight=scale_pos_weight,\n",
    "                random_state=42\n",
    "            ))\n",
    "        ])\n",
    "fit_evaluate(xgb_model, X_train=X_train, y_train=y_train, X_val=X_val, y_val=y_val, th=0.45)"
   ]
  },
  {
   "cell_type": "markdown",
   "metadata": {},
   "source": [
    "Fica bem complexo chegar ao resultado da random forest sem utilizar alguma ferramenta de tuning de hiperparâmetros."
   ]
  },
  {
   "cell_type": "markdown",
   "metadata": {},
   "source": [
    "## LGBM"
   ]
  },
  {
   "cell_type": "code",
   "execution_count": 34,
   "metadata": {},
   "outputs": [
    {
     "data": {
      "text/html": [
       "<div>\n",
       "<style scoped>\n",
       "    .dataframe tbody tr th:only-of-type {\n",
       "        vertical-align: middle;\n",
       "    }\n",
       "\n",
       "    .dataframe tbody tr th {\n",
       "        vertical-align: top;\n",
       "    }\n",
       "\n",
       "    .dataframe thead th {\n",
       "        text-align: right;\n",
       "    }\n",
       "</style>\n",
       "<table border=\"1\" class=\"dataframe\">\n",
       "  <thead>\n",
       "    <tr style=\"text-align: right;\">\n",
       "      <th></th>\n",
       "      <th>AUC</th>\n",
       "      <th>PRECISION</th>\n",
       "      <th>RECALL</th>\n",
       "      <th>LOGLOSS</th>\n",
       "      <th>F1</th>\n",
       "      <th>ACCURACY</th>\n",
       "    </tr>\n",
       "  </thead>\n",
       "  <tbody>\n",
       "    <tr>\n",
       "      <th>0</th>\n",
       "      <td>94.87</td>\n",
       "      <td>27.19</td>\n",
       "      <td>96.49</td>\n",
       "      <td>239.96</td>\n",
       "      <td>42.42</td>\n",
       "      <td>93.34</td>\n",
       "    </tr>\n",
       "  </tbody>\n",
       "</table>\n",
       "</div>"
      ],
      "text/plain": [
       "     AUC  PRECISION  RECALL  LOGLOSS     F1  ACCURACY\n",
       "0  94.87      27.19   96.49   239.96  42.42     93.34"
      ]
     },
     "metadata": {},
     "output_type": "display_data"
    },
    {
     "data": {
      "text/html": [
       "<div>\n",
       "<style scoped>\n",
       "    .dataframe tbody tr th:only-of-type {\n",
       "        vertical-align: middle;\n",
       "    }\n",
       "\n",
       "    .dataframe tbody tr th {\n",
       "        vertical-align: top;\n",
       "    }\n",
       "\n",
       "    .dataframe thead th {\n",
       "        text-align: right;\n",
       "    }\n",
       "</style>\n",
       "<table border=\"1\" class=\"dataframe\">\n",
       "  <thead>\n",
       "    <tr style=\"text-align: right;\">\n",
       "      <th></th>\n",
       "      <th>AUC</th>\n",
       "      <th>PRECISION</th>\n",
       "      <th>RECALL</th>\n",
       "      <th>LOGLOSS</th>\n",
       "      <th>F1</th>\n",
       "      <th>ACCURACY</th>\n",
       "    </tr>\n",
       "  </thead>\n",
       "  <tbody>\n",
       "    <tr>\n",
       "      <th>0</th>\n",
       "      <td>56.09</td>\n",
       "      <td>6.41</td>\n",
       "      <td>21.7</td>\n",
       "      <td>415.01</td>\n",
       "      <td>9.89</td>\n",
       "      <td>88.49</td>\n",
       "    </tr>\n",
       "  </tbody>\n",
       "</table>\n",
       "</div>"
      ],
      "text/plain": [
       "     AUC  PRECISION  RECALL  LOGLOSS    F1  ACCURACY\n",
       "0  56.09       6.41    21.7   415.01  9.89     88.49"
      ]
     },
     "metadata": {},
     "output_type": "display_data"
    }
   ],
   "source": [
    "lgbm_model = Pipeline([\n",
    "    ('preprocessor', preprocessor),\n",
    "    ('classifier', LGBMClassifier(\n",
    "        max_depth=8,\n",
    "        scale_pos_weight=scale_pos_weight,\n",
    "        objective='binary',\n",
    "        metric='binary_logloss',\n",
    "        random_state=42,\n",
    "        verbose=-1\n",
    "    ))\n",
    "])\n",
    "fit_evaluate(lgbm_model, X_train=X_train, y_train=y_train, X_val=X_val, y_val=y_val, th=0.5)"
   ]
  },
  {
   "cell_type": "code",
   "execution_count": 36,
   "metadata": {},
   "outputs": [
    {
     "data": {
      "text/html": [
       "<div>\n",
       "<style scoped>\n",
       "    .dataframe tbody tr th:only-of-type {\n",
       "        vertical-align: middle;\n",
       "    }\n",
       "\n",
       "    .dataframe tbody tr th {\n",
       "        vertical-align: top;\n",
       "    }\n",
       "\n",
       "    .dataframe thead th {\n",
       "        text-align: right;\n",
       "    }\n",
       "</style>\n",
       "<table border=\"1\" class=\"dataframe\">\n",
       "  <thead>\n",
       "    <tr style=\"text-align: right;\">\n",
       "      <th></th>\n",
       "      <th>AUC</th>\n",
       "      <th>PRECISION</th>\n",
       "      <th>RECALL</th>\n",
       "      <th>LOGLOSS</th>\n",
       "      <th>F1</th>\n",
       "      <th>ACCURACY</th>\n",
       "    </tr>\n",
       "  </thead>\n",
       "  <tbody>\n",
       "    <tr>\n",
       "      <th>0</th>\n",
       "      <td>93.86</td>\n",
       "      <td>22.31</td>\n",
       "      <td>96.49</td>\n",
       "      <td>311.03</td>\n",
       "      <td>36.24</td>\n",
       "      <td>91.37</td>\n",
       "    </tr>\n",
       "  </tbody>\n",
       "</table>\n",
       "</div>"
      ],
      "text/plain": [
       "     AUC  PRECISION  RECALL  LOGLOSS     F1  ACCURACY\n",
       "0  93.86      22.31   96.49   311.03  36.24     91.37"
      ]
     },
     "metadata": {},
     "output_type": "display_data"
    },
    {
     "data": {
      "text/html": [
       "<div>\n",
       "<style scoped>\n",
       "    .dataframe tbody tr th:only-of-type {\n",
       "        vertical-align: middle;\n",
       "    }\n",
       "\n",
       "    .dataframe tbody tr th {\n",
       "        vertical-align: top;\n",
       "    }\n",
       "\n",
       "    .dataframe thead th {\n",
       "        text-align: right;\n",
       "    }\n",
       "</style>\n",
       "<table border=\"1\" class=\"dataframe\">\n",
       "  <thead>\n",
       "    <tr style=\"text-align: right;\">\n",
       "      <th></th>\n",
       "      <th>AUC</th>\n",
       "      <th>PRECISION</th>\n",
       "      <th>RECALL</th>\n",
       "      <th>LOGLOSS</th>\n",
       "      <th>F1</th>\n",
       "      <th>ACCURACY</th>\n",
       "    </tr>\n",
       "  </thead>\n",
       "  <tbody>\n",
       "    <tr>\n",
       "      <th>0</th>\n",
       "      <td>56.83</td>\n",
       "      <td>6.08</td>\n",
       "      <td>25.47</td>\n",
       "      <td>491.28</td>\n",
       "      <td>9.82</td>\n",
       "      <td>86.37</td>\n",
       "    </tr>\n",
       "  </tbody>\n",
       "</table>\n",
       "</div>"
      ],
      "text/plain": [
       "     AUC  PRECISION  RECALL  LOGLOSS    F1  ACCURACY\n",
       "0  56.83       6.08   25.47   491.28  9.82     86.37"
      ]
     },
     "metadata": {},
     "output_type": "display_data"
    }
   ],
   "source": [
    "lgbm_model = Pipeline([\n",
    "    ('preprocessor', preprocessor),\n",
    "    ('classifier', LGBMClassifier(\n",
    "        max_depth=8,\n",
    "        scale_pos_weight=scale_pos_weight,\n",
    "        objective='binary',\n",
    "        metric='binary_logloss',\n",
    "        random_state=42,\n",
    "        verbose=-1\n",
    "    ))\n",
    "])\n",
    "fit_evaluate(lgbm_model, X_train=X_train, y_train=y_train, X_val=X_val, y_val=y_val, th=0.45)"
   ]
  },
  {
   "cell_type": "code",
   "execution_count": 37,
   "metadata": {},
   "outputs": [
    {
     "data": {
      "text/html": [
       "<div>\n",
       "<style scoped>\n",
       "    .dataframe tbody tr th:only-of-type {\n",
       "        vertical-align: middle;\n",
       "    }\n",
       "\n",
       "    .dataframe tbody tr th {\n",
       "        vertical-align: top;\n",
       "    }\n",
       "\n",
       "    .dataframe thead th {\n",
       "        text-align: right;\n",
       "    }\n",
       "</style>\n",
       "<table border=\"1\" class=\"dataframe\">\n",
       "  <thead>\n",
       "    <tr style=\"text-align: right;\">\n",
       "      <th></th>\n",
       "      <th>AUC</th>\n",
       "      <th>PRECISION</th>\n",
       "      <th>RECALL</th>\n",
       "      <th>LOGLOSS</th>\n",
       "      <th>F1</th>\n",
       "      <th>ACCURACY</th>\n",
       "    </tr>\n",
       "  </thead>\n",
       "  <tbody>\n",
       "    <tr>\n",
       "      <th>0</th>\n",
       "      <td>96.14</td>\n",
       "      <td>34.79</td>\n",
       "      <td>97.03</td>\n",
       "      <td>169.38</td>\n",
       "      <td>51.21</td>\n",
       "      <td>95.3</td>\n",
       "    </tr>\n",
       "  </tbody>\n",
       "</table>\n",
       "</div>"
      ],
      "text/plain": [
       "     AUC  PRECISION  RECALL  LOGLOSS     F1  ACCURACY\n",
       "0  96.14      34.79   97.03   169.38  51.21      95.3"
      ]
     },
     "metadata": {},
     "output_type": "display_data"
    },
    {
     "data": {
      "text/html": [
       "<div>\n",
       "<style scoped>\n",
       "    .dataframe tbody tr th:only-of-type {\n",
       "        vertical-align: middle;\n",
       "    }\n",
       "\n",
       "    .dataframe tbody tr th {\n",
       "        vertical-align: top;\n",
       "    }\n",
       "\n",
       "    .dataframe thead th {\n",
       "        text-align: right;\n",
       "    }\n",
       "</style>\n",
       "<table border=\"1\" class=\"dataframe\">\n",
       "  <thead>\n",
       "    <tr style=\"text-align: right;\">\n",
       "      <th></th>\n",
       "      <th>AUC</th>\n",
       "      <th>PRECISION</th>\n",
       "      <th>RECALL</th>\n",
       "      <th>LOGLOSS</th>\n",
       "      <th>F1</th>\n",
       "      <th>ACCURACY</th>\n",
       "    </tr>\n",
       "  </thead>\n",
       "  <tbody>\n",
       "    <tr>\n",
       "      <th>0</th>\n",
       "      <td>54.14</td>\n",
       "      <td>5.84</td>\n",
       "      <td>16.04</td>\n",
       "      <td>359.55</td>\n",
       "      <td>8.56</td>\n",
       "      <td>90.02</td>\n",
       "    </tr>\n",
       "  </tbody>\n",
       "</table>\n",
       "</div>"
      ],
      "text/plain": [
       "     AUC  PRECISION  RECALL  LOGLOSS    F1  ACCURACY\n",
       "0  54.14       5.84   16.04   359.55  8.56     90.02"
      ]
     },
     "metadata": {},
     "output_type": "display_data"
    }
   ],
   "source": [
    "lgbm_model = Pipeline([\n",
    "    ('preprocessor', preprocessor),\n",
    "    ('classifier', LGBMClassifier(\n",
    "        max_depth=8,\n",
    "        n_estimators=150,\n",
    "        scale_pos_weight=scale_pos_weight,\n",
    "        objective='binary',\n",
    "        metric='binary_logloss',\n",
    "        random_state=42,\n",
    "        verbose=-1\n",
    "    ))\n",
    "])\n",
    "fit_evaluate(lgbm_model, X_train=X_train, y_train=y_train, X_val=X_val, y_val=y_val, th=0.45)"
   ]
  },
  {
   "cell_type": "code",
   "execution_count": 39,
   "metadata": {},
   "outputs": [
    {
     "data": {
      "text/html": [
       "<div>\n",
       "<style scoped>\n",
       "    .dataframe tbody tr th:only-of-type {\n",
       "        vertical-align: middle;\n",
       "    }\n",
       "\n",
       "    .dataframe tbody tr th {\n",
       "        vertical-align: top;\n",
       "    }\n",
       "\n",
       "    .dataframe thead th {\n",
       "        text-align: right;\n",
       "    }\n",
       "</style>\n",
       "<table border=\"1\" class=\"dataframe\">\n",
       "  <thead>\n",
       "    <tr style=\"text-align: right;\">\n",
       "      <th></th>\n",
       "      <th>AUC</th>\n",
       "      <th>PRECISION</th>\n",
       "      <th>RECALL</th>\n",
       "      <th>LOGLOSS</th>\n",
       "      <th>F1</th>\n",
       "      <th>ACCURACY</th>\n",
       "    </tr>\n",
       "  </thead>\n",
       "  <tbody>\n",
       "    <tr>\n",
       "      <th>0</th>\n",
       "      <td>78.79</td>\n",
       "      <td>21.13</td>\n",
       "      <td>63.78</td>\n",
       "      <td>251.35</td>\n",
       "      <td>31.74</td>\n",
       "      <td>93.03</td>\n",
       "    </tr>\n",
       "  </tbody>\n",
       "</table>\n",
       "</div>"
      ],
      "text/plain": [
       "     AUC  PRECISION  RECALL  LOGLOSS     F1  ACCURACY\n",
       "0  78.79      21.13   63.78   251.35  31.74     93.03"
      ]
     },
     "metadata": {},
     "output_type": "display_data"
    },
    {
     "data": {
      "text/html": [
       "<div>\n",
       "<style scoped>\n",
       "    .dataframe tbody tr th:only-of-type {\n",
       "        vertical-align: middle;\n",
       "    }\n",
       "\n",
       "    .dataframe tbody tr th {\n",
       "        vertical-align: top;\n",
       "    }\n",
       "\n",
       "    .dataframe thead th {\n",
       "        text-align: right;\n",
       "    }\n",
       "</style>\n",
       "<table border=\"1\" class=\"dataframe\">\n",
       "  <thead>\n",
       "    <tr style=\"text-align: right;\">\n",
       "      <th></th>\n",
       "      <th>AUC</th>\n",
       "      <th>PRECISION</th>\n",
       "      <th>RECALL</th>\n",
       "      <th>LOGLOSS</th>\n",
       "      <th>F1</th>\n",
       "      <th>ACCURACY</th>\n",
       "    </tr>\n",
       "  </thead>\n",
       "  <tbody>\n",
       "    <tr>\n",
       "      <th>0</th>\n",
       "      <td>55.14</td>\n",
       "      <td>6.57</td>\n",
       "      <td>17.92</td>\n",
       "      <td>353.6</td>\n",
       "      <td>9.62</td>\n",
       "      <td>90.19</td>\n",
       "    </tr>\n",
       "  </tbody>\n",
       "</table>\n",
       "</div>"
      ],
      "text/plain": [
       "     AUC  PRECISION  RECALL  LOGLOSS    F1  ACCURACY\n",
       "0  55.14       6.57   17.92    353.6  9.62     90.19"
      ]
     },
     "metadata": {},
     "output_type": "display_data"
    }
   ],
   "source": [
    "lgbm_model = Pipeline([\n",
    "    ('preprocessor', preprocessor),\n",
    "    ('classifier', LGBMClassifier(\n",
    "        max_depth=8,\n",
    "        n_estimators=100,\n",
    "        learning_rate=0.01,\n",
    "        scale_pos_weight=scale_pos_weight,\n",
    "        objective='binary',\n",
    "        metric='binary_logloss',\n",
    "        random_state=42,\n",
    "        verbose=-1\n",
    "    ))\n",
    "])\n",
    "fit_evaluate(lgbm_model, X_train=X_train, y_train=y_train, X_val=X_val, y_val=y_val, th=0.45)"
   ]
  },
  {
   "cell_type": "markdown",
   "metadata": {},
   "source": [
    "## Tunando Modelos com Optuna"
   ]
  },
  {
   "cell_type": "markdown",
   "metadata": {},
   "source": [
    "### Random Forest\n",
    "\n",
    "Vamos tunar inicialmente com um modelo mais simples."
   ]
  },
  {
   "cell_type": "code",
   "execution_count": 40,
   "metadata": {},
   "outputs": [],
   "source": [
    "import warnings\n",
    "warnings.filterwarnings('ignore')"
   ]
  },
  {
   "cell_type": "markdown",
   "metadata": {},
   "source": [
    "DESCOMENTE A CÉLULA ABAIXO CASO QUEIRA FAZER O TUNING DE HIPERPARÂMETROS UTILIZANDO OPTUNA"
   ]
  },
  {
   "cell_type": "code",
   "execution_count": 50,
   "metadata": {},
   "outputs": [
    {
     "name": "stderr",
     "output_type": "stream",
     "text": [
      "[I 2024-10-28 14:39:48,206] A new study created in memory with name: no-name-244799cf-0e5c-4afd-b6f0-9ec430083ed2\n",
      "[I 2024-10-28 14:39:51,468] Trial 0 finished with value: 0.2169811320754717 and parameters: {'max_depth': 8, 'n_estimators': 312, 'min_samples_split': 14, 'min_samples_leaf': 6}. Best is trial 0 with value: 0.2169811320754717.\n",
      "[I 2024-10-28 14:40:04,418] Trial 1 finished with value: 0.04716981132075472 and parameters: {'max_depth': 11, 'n_estimators': 939, 'min_samples_split': 3, 'min_samples_leaf': 9}. Best is trial 0 with value: 0.2169811320754717.\n",
      "[I 2024-10-28 14:40:13,010] Trial 2 finished with value: 0.16981132075471697 and parameters: {'max_depth': 9, 'n_estimators': 812, 'min_samples_split': 7, 'min_samples_leaf': 10}. Best is trial 0 with value: 0.2169811320754717.\n",
      "[I 2024-10-28 14:40:17,084] Trial 3 finished with value: 0.2169811320754717 and parameters: {'max_depth': 8, 'n_estimators': 397, 'min_samples_split': 7, 'min_samples_leaf': 10}. Best is trial 0 with value: 0.2169811320754717.\n",
      "[I 2024-10-28 14:40:21,318] Trial 4 finished with value: 0.29245283018867924 and parameters: {'max_depth': 7, 'n_estimators': 462, 'min_samples_split': 3, 'min_samples_leaf': 4}. Best is trial 4 with value: 0.29245283018867924.\n",
      "[I 2024-10-28 14:40:25,795] Trial 5 finished with value: 0.4339622641509434 and parameters: {'max_depth': 6, 'n_estimators': 541, 'min_samples_split': 13, 'min_samples_leaf': 6}. Best is trial 5 with value: 0.4339622641509434.\n",
      "[I 2024-10-28 14:40:31,368] Trial 6 finished with value: 0.16037735849056603 and parameters: {'max_depth': 9, 'n_estimators': 504, 'min_samples_split': 13, 'min_samples_leaf': 5}. Best is trial 5 with value: 0.4339622641509434.\n",
      "[I 2024-10-28 14:40:34,135] Trial 7 finished with value: 0.0660377358490566 and parameters: {'max_depth': 11, 'n_estimators': 231, 'min_samples_split': 7, 'min_samples_leaf': 4}. Best is trial 5 with value: 0.4339622641509434.\n",
      "[I 2024-10-28 14:40:37,901] Trial 8 finished with value: 0.22641509433962265 and parameters: {'max_depth': 8, 'n_estimators': 346, 'min_samples_split': 20, 'min_samples_leaf': 6}. Best is trial 5 with value: 0.4339622641509434.\n",
      "[I 2024-10-28 14:40:48,805] Trial 9 finished with value: 0.03773584905660377 and parameters: {'max_depth': 12, 'n_estimators': 865, 'min_samples_split': 10, 'min_samples_leaf': 10}. Best is trial 5 with value: 0.4339622641509434.\n",
      "[I 2024-10-28 14:40:54,115] Trial 10 finished with value: 0.5471698113207547 and parameters: {'max_depth': 5, 'n_estimators': 669, 'min_samples_split': 18, 'min_samples_leaf': 2}. Best is trial 10 with value: 0.5471698113207547.\n",
      "[I 2024-10-28 14:40:59,391] Trial 11 finished with value: 0.5377358490566038 and parameters: {'max_depth': 5, 'n_estimators': 680, 'min_samples_split': 18, 'min_samples_leaf': 2}. Best is trial 10 with value: 0.5471698113207547.\n",
      "[I 2024-10-28 14:41:04,905] Trial 12 finished with value: 0.5566037735849056 and parameters: {'max_depth': 5, 'n_estimators': 702, 'min_samples_split': 20, 'min_samples_leaf': 2}. Best is trial 12 with value: 0.5566037735849056.\n",
      "[I 2024-10-28 14:41:13,854] Trial 13 finished with value: 0.0 and parameters: {'max_depth': 15, 'n_estimators': 682, 'min_samples_split': 18, 'min_samples_leaf': 2}. Best is trial 12 with value: 0.5566037735849056.\n",
      "[I 2024-10-28 14:41:18,781] Trial 14 finished with value: 0.5283018867924528 and parameters: {'max_depth': 5, 'n_estimators': 664, 'min_samples_split': 18, 'min_samples_leaf': 3}. Best is trial 12 with value: 0.5566037735849056.\n",
      "[I 2024-10-28 14:41:25,343] Trial 15 finished with value: 0.42452830188679247 and parameters: {'max_depth': 6, 'n_estimators': 782, 'min_samples_split': 20, 'min_samples_leaf': 8}. Best is trial 12 with value: 0.5566037735849056.\n",
      "[I 2024-10-28 14:41:33,250] Trial 16 finished with value: 0.009433962264150943 and parameters: {'max_depth': 14, 'n_estimators': 613, 'min_samples_split': 15, 'min_samples_leaf': 3}. Best is trial 12 with value: 0.5566037735849056.\n",
      "[I 2024-10-28 14:41:40,552] Trial 17 finished with value: 0.5377358490566038 and parameters: {'max_depth': 5, 'n_estimators': 986, 'min_samples_split': 17, 'min_samples_leaf': 2}. Best is trial 12 with value: 0.5566037735849056.\n",
      "[I 2024-10-28 14:41:47,715] Trial 18 finished with value: 0.3018867924528302 and parameters: {'max_depth': 7, 'n_estimators': 757, 'min_samples_split': 11, 'min_samples_leaf': 4}. Best is trial 12 with value: 0.5566037735849056.\n",
      "[I 2024-10-28 14:41:52,744] Trial 19 finished with value: 0.44339622641509435 and parameters: {'max_depth': 6, 'n_estimators': 591, 'min_samples_split': 16, 'min_samples_leaf': 8}. Best is trial 12 with value: 0.5566037735849056.\n",
      "[I 2024-10-28 14:41:54,028] Trial 20 finished with value: 0.29245283018867924 and parameters: {'max_depth': 7, 'n_estimators': 133, 'min_samples_split': 20, 'min_samples_leaf': 3}. Best is trial 12 with value: 0.5566037735849056.\n",
      "[I 2024-10-28 14:41:59,303] Trial 21 finished with value: 0.5283018867924528 and parameters: {'max_depth': 5, 'n_estimators': 689, 'min_samples_split': 18, 'min_samples_leaf': 2}. Best is trial 12 with value: 0.5566037735849056.\n",
      "[I 2024-10-28 14:42:04,802] Trial 22 finished with value: 0.5283018867924528 and parameters: {'max_depth': 5, 'n_estimators': 738, 'min_samples_split': 17, 'min_samples_leaf': 2}. Best is trial 12 with value: 0.5566037735849056.\n",
      "[I 2024-10-28 14:42:12,232] Trial 23 finished with value: 0.4339622641509434 and parameters: {'max_depth': 6, 'n_estimators': 870, 'min_samples_split': 19, 'min_samples_leaf': 3}. Best is trial 12 with value: 0.5566037735849056.\n",
      "[I 2024-10-28 14:42:17,288] Trial 24 finished with value: 0.5283018867924528 and parameters: {'max_depth': 5, 'n_estimators': 613, 'min_samples_split': 16, 'min_samples_leaf': 5}. Best is trial 12 with value: 0.5566037735849056.\n",
      "[I 2024-10-28 14:42:21,797] Trial 25 finished with value: 0.3018867924528302 and parameters: {'max_depth': 7, 'n_estimators': 463, 'min_samples_split': 11, 'min_samples_leaf': 2}. Best is trial 12 with value: 0.5566037735849056.\n",
      "[I 2024-10-28 14:42:30,832] Trial 26 finished with value: 0.018867924528301886 and parameters: {'max_depth': 13, 'n_estimators': 713, 'min_samples_split': 15, 'min_samples_leaf': 3}. Best is trial 12 with value: 0.5566037735849056.\n",
      "[I 2024-10-28 14:42:37,863] Trial 27 finished with value: 0.44339622641509435 and parameters: {'max_depth': 6, 'n_estimators': 841, 'min_samples_split': 19, 'min_samples_leaf': 4}. Best is trial 12 with value: 0.5566037735849056.\n",
      "[I 2024-10-28 14:42:44,151] Trial 28 finished with value: 0.1792452830188679 and parameters: {'max_depth': 9, 'n_estimators': 577, 'min_samples_split': 17, 'min_samples_leaf': 2}. Best is trial 12 with value: 0.5566037735849056.\n",
      "[I 2024-10-28 14:42:51,290] Trial 29 finished with value: 0.10377358490566038 and parameters: {'max_depth': 10, 'n_estimators': 622, 'min_samples_split': 13, 'min_samples_leaf': 7}. Best is trial 12 with value: 0.5566037735849056.\n",
      "[I 2024-10-28 14:42:58,315] Trial 30 finished with value: 0.22641509433962265 and parameters: {'max_depth': 8, 'n_estimators': 660, 'min_samples_split': 15, 'min_samples_leaf': 5}. Best is trial 12 with value: 0.5566037735849056.\n",
      "[I 2024-10-28 14:43:05,760] Trial 31 finished with value: 0.5471698113207547 and parameters: {'max_depth': 5, 'n_estimators': 998, 'min_samples_split': 17, 'min_samples_leaf': 2}. Best is trial 12 with value: 0.5566037735849056.\n",
      "[I 2024-10-28 14:43:12,777] Trial 32 finished with value: 0.5188679245283019 and parameters: {'max_depth': 5, 'n_estimators': 935, 'min_samples_split': 19, 'min_samples_leaf': 3}. Best is trial 12 with value: 0.5566037735849056.\n",
      "[I 2024-10-28 14:43:20,691] Trial 33 finished with value: 0.44339622641509435 and parameters: {'max_depth': 6, 'n_estimators': 917, 'min_samples_split': 18, 'min_samples_leaf': 2}. Best is trial 12 with value: 0.5566037735849056.\n",
      "[I 2024-10-28 14:43:26,864] Trial 34 finished with value: 0.5188679245283019 and parameters: {'max_depth': 5, 'n_estimators': 801, 'min_samples_split': 16, 'min_samples_leaf': 3}. Best is trial 12 with value: 0.5566037735849056.\n",
      "[I 2024-10-28 14:43:36,223] Trial 35 finished with value: 0.29245283018867924 and parameters: {'max_depth': 7, 'n_estimators': 997, 'min_samples_split': 9, 'min_samples_leaf': 2}. Best is trial 12 with value: 0.5566037735849056.\n",
      "[I 2024-10-28 14:43:39,701] Trial 36 finished with value: 0.42452830188679247 and parameters: {'max_depth': 6, 'n_estimators': 408, 'min_samples_split': 2, 'min_samples_leaf': 4}. Best is trial 12 with value: 0.5566037735849056.\n",
      "[I 2024-10-28 14:43:43,401] Trial 37 finished with value: 0.5377358490566038 and parameters: {'max_depth': 5, 'n_estimators': 499, 'min_samples_split': 14, 'min_samples_leaf': 3}. Best is trial 12 with value: 0.5566037735849056.\n",
      "[I 2024-10-28 14:43:52,474] Trial 38 finished with value: 0.24528301886792453 and parameters: {'max_depth': 8, 'n_estimators': 895, 'min_samples_split': 20, 'min_samples_leaf': 2}. Best is trial 12 with value: 0.5566037735849056.\n",
      "[I 2024-10-28 14:43:57,570] Trial 39 finished with value: 0.3018867924528302 and parameters: {'max_depth': 7, 'n_estimators': 542, 'min_samples_split': 5, 'min_samples_leaf': 4}. Best is trial 12 with value: 0.5566037735849056.\n",
      "[I 2024-10-28 14:44:06,775] Trial 40 finished with value: 0.11320754716981132 and parameters: {'max_depth': 10, 'n_estimators': 804, 'min_samples_split': 19, 'min_samples_leaf': 7}. Best is trial 12 with value: 0.5566037735849056.\n",
      "[I 2024-10-28 14:44:14,075] Trial 41 finished with value: 0.5471698113207547 and parameters: {'max_depth': 5, 'n_estimators': 986, 'min_samples_split': 17, 'min_samples_leaf': 2}. Best is trial 12 with value: 0.5566037735849056.\n",
      "[I 2024-10-28 14:44:22,167] Trial 42 finished with value: 0.4339622641509434 and parameters: {'max_depth': 6, 'n_estimators': 957, 'min_samples_split': 17, 'min_samples_leaf': 2}. Best is trial 12 with value: 0.5566037735849056.\n",
      "[I 2024-10-28 14:44:28,365] Trial 43 finished with value: 0.5188679245283019 and parameters: {'max_depth': 5, 'n_estimators': 830, 'min_samples_split': 18, 'min_samples_leaf': 3}. Best is trial 12 with value: 0.5566037735849056.\n",
      "[I 2024-10-28 14:44:35,936] Trial 44 finished with value: 0.42452830188679247 and parameters: {'max_depth': 6, 'n_estimators': 896, 'min_samples_split': 16, 'min_samples_leaf': 2}. Best is trial 12 with value: 0.5566037735849056.\n",
      "[I 2024-10-28 14:44:40,829] Trial 45 finished with value: 0.5188679245283019 and parameters: {'max_depth': 5, 'n_estimators': 647, 'min_samples_split': 14, 'min_samples_leaf': 3}. Best is trial 12 with value: 0.5566037735849056.\n",
      "[I 2024-10-28 14:44:46,897] Trial 46 finished with value: 0.44339622641509435 and parameters: {'max_depth': 6, 'n_estimators': 725, 'min_samples_split': 19, 'min_samples_leaf': 2}. Best is trial 12 with value: 0.5566037735849056.\n",
      "[I 2024-10-28 14:44:55,988] Trial 47 finished with value: 0.0660377358490566 and parameters: {'max_depth': 11, 'n_estimators': 770, 'min_samples_split': 20, 'min_samples_leaf': 4}. Best is trial 12 with value: 0.5566037735849056.\n"
     ]
    }
   ],
   "source": [
    "# def objective(trial):\n",
    "            \n",
    "#     # Profundidade da árvore\n",
    "#     rf_max_depth = trial.suggest_int('max_depth', 5, 15)\n",
    "    \n",
    "#     # Quantidade de estimadores\n",
    "#     rf_n_estimators = trial.suggest_int('n_estimators', 100, 1000)\n",
    "    \n",
    "#     # Número mínimo de amostras necessárias para dividir um nó, ajudando a controlar o tamanho das árvores.\n",
    "#     rf_min_samples_split = trial.suggest_int('min_samples_split', 2, 20)\n",
    "    \n",
    "#     # Número mínimo de amostras em uma folha, evitando que a árvore cresça excessivamente.\n",
    "#     rf_min_samples_leaf = trial.suggest_int('min_samples_leaf', 2, 10)\n",
    "    \n",
    "#     classifier_obj = Pipeline([\n",
    "#         ('preprocessor', preprocessor),\n",
    "#         ('classifier', RandomForestClassifier(\n",
    "#             max_depth=rf_max_depth\n",
    "#             , n_estimators=rf_n_estimators\n",
    "#             , class_weight=class_weights))\n",
    "#     ])\n",
    "    \n",
    "#     classifier_obj.fit(X_train, y_train)\n",
    "    \n",
    "#     predictions = classifier_obj.predict(X_val)\n",
    "#     metric = recall_score(y_val, predictions)\n",
    "    \n",
    "#     return metric\n",
    "\n",
    "# # otimizando durante 300 segundos (5 minutos)\n",
    "# study = optuna.create_study(direction='maximize')\n",
    "# study.optimize(objective, timeout=300)\n"
   ]
  },
  {
   "cell_type": "code",
   "execution_count": 55,
   "metadata": {},
   "outputs": [
    {
     "data": {
      "text/html": [
       "<div>\n",
       "<style scoped>\n",
       "    .dataframe tbody tr th:only-of-type {\n",
       "        vertical-align: middle;\n",
       "    }\n",
       "\n",
       "    .dataframe tbody tr th {\n",
       "        vertical-align: top;\n",
       "    }\n",
       "\n",
       "    .dataframe thead th {\n",
       "        text-align: right;\n",
       "    }\n",
       "</style>\n",
       "<table border=\"1\" class=\"dataframe\">\n",
       "  <thead>\n",
       "    <tr style=\"text-align: right;\">\n",
       "      <th></th>\n",
       "      <th>AUC</th>\n",
       "      <th>PRECISION</th>\n",
       "      <th>RECALL</th>\n",
       "      <th>LOGLOSS</th>\n",
       "      <th>F1</th>\n",
       "      <th>ACCURACY</th>\n",
       "    </tr>\n",
       "  </thead>\n",
       "  <tbody>\n",
       "    <tr>\n",
       "      <th>0</th>\n",
       "      <td>65.75</td>\n",
       "      <td>5.43</td>\n",
       "      <td>66.04</td>\n",
       "      <td>1244.05</td>\n",
       "      <td>10.03</td>\n",
       "      <td>65.49</td>\n",
       "    </tr>\n",
       "  </tbody>\n",
       "</table>\n",
       "</div>"
      ],
      "text/plain": [
       "     AUC  PRECISION  RECALL  LOGLOSS     F1  ACCURACY\n",
       "0  65.75       5.43   66.04  1244.05  10.03     65.49"
      ]
     },
     "execution_count": 55,
     "metadata": {},
     "output_type": "execute_result"
    }
   ],
   "source": [
    "# best params:\n",
    "parameters = {'max_depth': 5, 'n_estimators': 702, 'min_samples_split': 20, 'min_samples_leaf': 2}\n",
    "\n",
    "rf_model = Pipeline([\n",
    "            ('preprocessor', preprocessor),\n",
    "            ('classifier', RandomForestClassifier(\n",
    "                # **study.best_params,\n",
    "                **parameters,\n",
    "                class_weight=class_weights, \n",
    "                random_state=42,\n",
    "            ))\n",
    "        ])\n",
    "\n",
    "rf_model.fit(X_train, y_train)\n",
    "rf_eval = ModelEvaluator(rf_model, X_val, y_val, th=0.45)\n",
    "rf_eval.evaluate()"
   ]
  },
  {
   "cell_type": "code",
   "execution_count": 78,
   "metadata": {},
   "outputs": [
    {
     "data": {
      "application/vnd.plotly.v1+json": {
       "config": {
        "plotlyServerURL": "https://plot.ly"
       },
       "data": [
        {
         "line": {
          "color": "blue",
          "width": 2
         },
         "name": "Precision",
         "type": "scatter",
         "x": [
          0.26,
          0.28,
          0.30000000000000004,
          0.32000000000000006,
          0.3400000000000001,
          0.3600000000000001,
          0.3800000000000001,
          0.40000000000000013,
          0.42000000000000015,
          0.44000000000000017,
          0.4600000000000002,
          0.4800000000000002,
          0.5000000000000002,
          0.5200000000000002,
          0.5400000000000003,
          0.5600000000000003,
          0.5800000000000003
         ],
         "y": [
          0.034156976744186045,
          0.03570011900039667,
          0.03655913978494624,
          0.03808639108221087,
          0.04043392504930966,
          0.042954426401257205,
          0.04470854555744199,
          0.04697986577181208,
          0.05036447978793903,
          0.05163636363636363,
          0.056372549019607844,
          0.060861423220973786,
          0.059957173447537475,
          0.06030150753768844,
          0.05952380952380952,
          0.06216696269982238,
          0.05508474576271186
         ]
        },
        {
         "line": {
          "color": "red",
          "width": 2
         },
         "name": "Recall",
         "type": "scatter",
         "x": [
          0.26,
          0.28,
          0.30000000000000004,
          0.32000000000000006,
          0.3400000000000001,
          0.3600000000000001,
          0.3800000000000001,
          0.40000000000000013,
          0.42000000000000015,
          0.44000000000000017,
          0.4600000000000002,
          0.4800000000000002,
          0.5000000000000002,
          0.5200000000000002,
          0.5400000000000003,
          0.5600000000000003,
          0.5800000000000003
         ],
         "y": [
          0.8867924528301887,
          0.8490566037735849,
          0.8018867924528302,
          0.7735849056603774,
          0.7735849056603774,
          0.7735849056603774,
          0.7452830188679245,
          0.7264150943396226,
          0.7169811320754716,
          0.6698113207547169,
          0.6509433962264151,
          0.6132075471698113,
          0.5283018867924528,
          0.4528301886792453,
          0.37735849056603776,
          0.330188679245283,
          0.24528301886792453
         ]
        }
       ],
       "layout": {
        "annotations": [
         {
          "showarrow": false,
          "text": "Threshold Atual (0.42)",
          "x": 0.45,
          "xanchor": "left",
          "xref": "x",
          "y": 1,
          "yanchor": "top",
          "yref": "y domain"
         }
        ],
        "hovermode": "x unified",
        "shapes": [
         {
          "line": {
           "color": "gray",
           "dash": "dash"
          },
          "type": "line",
          "x0": 0.45,
          "x1": 0.45,
          "xref": "x",
          "y0": 0,
          "y1": 1,
          "yref": "y domain"
         }
        ],
        "template": {
         "data": {
          "bar": [
           {
            "error_x": {
             "color": "#2a3f5f"
            },
            "error_y": {
             "color": "#2a3f5f"
            },
            "marker": {
             "line": {
              "color": "#E5ECF6",
              "width": 0.5
             },
             "pattern": {
              "fillmode": "overlay",
              "size": 10,
              "solidity": 0.2
             }
            },
            "type": "bar"
           }
          ],
          "barpolar": [
           {
            "marker": {
             "line": {
              "color": "#E5ECF6",
              "width": 0.5
             },
             "pattern": {
              "fillmode": "overlay",
              "size": 10,
              "solidity": 0.2
             }
            },
            "type": "barpolar"
           }
          ],
          "carpet": [
           {
            "aaxis": {
             "endlinecolor": "#2a3f5f",
             "gridcolor": "white",
             "linecolor": "white",
             "minorgridcolor": "white",
             "startlinecolor": "#2a3f5f"
            },
            "baxis": {
             "endlinecolor": "#2a3f5f",
             "gridcolor": "white",
             "linecolor": "white",
             "minorgridcolor": "white",
             "startlinecolor": "#2a3f5f"
            },
            "type": "carpet"
           }
          ],
          "choropleth": [
           {
            "colorbar": {
             "outlinewidth": 0,
             "ticks": ""
            },
            "type": "choropleth"
           }
          ],
          "contour": [
           {
            "colorbar": {
             "outlinewidth": 0,
             "ticks": ""
            },
            "colorscale": [
             [
              0,
              "#0d0887"
             ],
             [
              0.1111111111111111,
              "#46039f"
             ],
             [
              0.2222222222222222,
              "#7201a8"
             ],
             [
              0.3333333333333333,
              "#9c179e"
             ],
             [
              0.4444444444444444,
              "#bd3786"
             ],
             [
              0.5555555555555556,
              "#d8576b"
             ],
             [
              0.6666666666666666,
              "#ed7953"
             ],
             [
              0.7777777777777778,
              "#fb9f3a"
             ],
             [
              0.8888888888888888,
              "#fdca26"
             ],
             [
              1,
              "#f0f921"
             ]
            ],
            "type": "contour"
           }
          ],
          "contourcarpet": [
           {
            "colorbar": {
             "outlinewidth": 0,
             "ticks": ""
            },
            "type": "contourcarpet"
           }
          ],
          "heatmap": [
           {
            "colorbar": {
             "outlinewidth": 0,
             "ticks": ""
            },
            "colorscale": [
             [
              0,
              "#0d0887"
             ],
             [
              0.1111111111111111,
              "#46039f"
             ],
             [
              0.2222222222222222,
              "#7201a8"
             ],
             [
              0.3333333333333333,
              "#9c179e"
             ],
             [
              0.4444444444444444,
              "#bd3786"
             ],
             [
              0.5555555555555556,
              "#d8576b"
             ],
             [
              0.6666666666666666,
              "#ed7953"
             ],
             [
              0.7777777777777778,
              "#fb9f3a"
             ],
             [
              0.8888888888888888,
              "#fdca26"
             ],
             [
              1,
              "#f0f921"
             ]
            ],
            "type": "heatmap"
           }
          ],
          "heatmapgl": [
           {
            "colorbar": {
             "outlinewidth": 0,
             "ticks": ""
            },
            "colorscale": [
             [
              0,
              "#0d0887"
             ],
             [
              0.1111111111111111,
              "#46039f"
             ],
             [
              0.2222222222222222,
              "#7201a8"
             ],
             [
              0.3333333333333333,
              "#9c179e"
             ],
             [
              0.4444444444444444,
              "#bd3786"
             ],
             [
              0.5555555555555556,
              "#d8576b"
             ],
             [
              0.6666666666666666,
              "#ed7953"
             ],
             [
              0.7777777777777778,
              "#fb9f3a"
             ],
             [
              0.8888888888888888,
              "#fdca26"
             ],
             [
              1,
              "#f0f921"
             ]
            ],
            "type": "heatmapgl"
           }
          ],
          "histogram": [
           {
            "marker": {
             "pattern": {
              "fillmode": "overlay",
              "size": 10,
              "solidity": 0.2
             }
            },
            "type": "histogram"
           }
          ],
          "histogram2d": [
           {
            "colorbar": {
             "outlinewidth": 0,
             "ticks": ""
            },
            "colorscale": [
             [
              0,
              "#0d0887"
             ],
             [
              0.1111111111111111,
              "#46039f"
             ],
             [
              0.2222222222222222,
              "#7201a8"
             ],
             [
              0.3333333333333333,
              "#9c179e"
             ],
             [
              0.4444444444444444,
              "#bd3786"
             ],
             [
              0.5555555555555556,
              "#d8576b"
             ],
             [
              0.6666666666666666,
              "#ed7953"
             ],
             [
              0.7777777777777778,
              "#fb9f3a"
             ],
             [
              0.8888888888888888,
              "#fdca26"
             ],
             [
              1,
              "#f0f921"
             ]
            ],
            "type": "histogram2d"
           }
          ],
          "histogram2dcontour": [
           {
            "colorbar": {
             "outlinewidth": 0,
             "ticks": ""
            },
            "colorscale": [
             [
              0,
              "#0d0887"
             ],
             [
              0.1111111111111111,
              "#46039f"
             ],
             [
              0.2222222222222222,
              "#7201a8"
             ],
             [
              0.3333333333333333,
              "#9c179e"
             ],
             [
              0.4444444444444444,
              "#bd3786"
             ],
             [
              0.5555555555555556,
              "#d8576b"
             ],
             [
              0.6666666666666666,
              "#ed7953"
             ],
             [
              0.7777777777777778,
              "#fb9f3a"
             ],
             [
              0.8888888888888888,
              "#fdca26"
             ],
             [
              1,
              "#f0f921"
             ]
            ],
            "type": "histogram2dcontour"
           }
          ],
          "mesh3d": [
           {
            "colorbar": {
             "outlinewidth": 0,
             "ticks": ""
            },
            "type": "mesh3d"
           }
          ],
          "parcoords": [
           {
            "line": {
             "colorbar": {
              "outlinewidth": 0,
              "ticks": ""
             }
            },
            "type": "parcoords"
           }
          ],
          "pie": [
           {
            "automargin": true,
            "type": "pie"
           }
          ],
          "scatter": [
           {
            "fillpattern": {
             "fillmode": "overlay",
             "size": 10,
             "solidity": 0.2
            },
            "type": "scatter"
           }
          ],
          "scatter3d": [
           {
            "line": {
             "colorbar": {
              "outlinewidth": 0,
              "ticks": ""
             }
            },
            "marker": {
             "colorbar": {
              "outlinewidth": 0,
              "ticks": ""
             }
            },
            "type": "scatter3d"
           }
          ],
          "scattercarpet": [
           {
            "marker": {
             "colorbar": {
              "outlinewidth": 0,
              "ticks": ""
             }
            },
            "type": "scattercarpet"
           }
          ],
          "scattergeo": [
           {
            "marker": {
             "colorbar": {
              "outlinewidth": 0,
              "ticks": ""
             }
            },
            "type": "scattergeo"
           }
          ],
          "scattergl": [
           {
            "marker": {
             "colorbar": {
              "outlinewidth": 0,
              "ticks": ""
             }
            },
            "type": "scattergl"
           }
          ],
          "scattermapbox": [
           {
            "marker": {
             "colorbar": {
              "outlinewidth": 0,
              "ticks": ""
             }
            },
            "type": "scattermapbox"
           }
          ],
          "scatterpolar": [
           {
            "marker": {
             "colorbar": {
              "outlinewidth": 0,
              "ticks": ""
             }
            },
            "type": "scatterpolar"
           }
          ],
          "scatterpolargl": [
           {
            "marker": {
             "colorbar": {
              "outlinewidth": 0,
              "ticks": ""
             }
            },
            "type": "scatterpolargl"
           }
          ],
          "scatterternary": [
           {
            "marker": {
             "colorbar": {
              "outlinewidth": 0,
              "ticks": ""
             }
            },
            "type": "scatterternary"
           }
          ],
          "surface": [
           {
            "colorbar": {
             "outlinewidth": 0,
             "ticks": ""
            },
            "colorscale": [
             [
              0,
              "#0d0887"
             ],
             [
              0.1111111111111111,
              "#46039f"
             ],
             [
              0.2222222222222222,
              "#7201a8"
             ],
             [
              0.3333333333333333,
              "#9c179e"
             ],
             [
              0.4444444444444444,
              "#bd3786"
             ],
             [
              0.5555555555555556,
              "#d8576b"
             ],
             [
              0.6666666666666666,
              "#ed7953"
             ],
             [
              0.7777777777777778,
              "#fb9f3a"
             ],
             [
              0.8888888888888888,
              "#fdca26"
             ],
             [
              1,
              "#f0f921"
             ]
            ],
            "type": "surface"
           }
          ],
          "table": [
           {
            "cells": {
             "fill": {
              "color": "#EBF0F8"
             },
             "line": {
              "color": "white"
             }
            },
            "header": {
             "fill": {
              "color": "#C8D4E3"
             },
             "line": {
              "color": "white"
             }
            },
            "type": "table"
           }
          ]
         },
         "layout": {
          "annotationdefaults": {
           "arrowcolor": "#2a3f5f",
           "arrowhead": 0,
           "arrowwidth": 1
          },
          "autotypenumbers": "strict",
          "coloraxis": {
           "colorbar": {
            "outlinewidth": 0,
            "ticks": ""
           }
          },
          "colorscale": {
           "diverging": [
            [
             0,
             "#8e0152"
            ],
            [
             0.1,
             "#c51b7d"
            ],
            [
             0.2,
             "#de77ae"
            ],
            [
             0.3,
             "#f1b6da"
            ],
            [
             0.4,
             "#fde0ef"
            ],
            [
             0.5,
             "#f7f7f7"
            ],
            [
             0.6,
             "#e6f5d0"
            ],
            [
             0.7,
             "#b8e186"
            ],
            [
             0.8,
             "#7fbc41"
            ],
            [
             0.9,
             "#4d9221"
            ],
            [
             1,
             "#276419"
            ]
           ],
           "sequential": [
            [
             0,
             "#0d0887"
            ],
            [
             0.1111111111111111,
             "#46039f"
            ],
            [
             0.2222222222222222,
             "#7201a8"
            ],
            [
             0.3333333333333333,
             "#9c179e"
            ],
            [
             0.4444444444444444,
             "#bd3786"
            ],
            [
             0.5555555555555556,
             "#d8576b"
            ],
            [
             0.6666666666666666,
             "#ed7953"
            ],
            [
             0.7777777777777778,
             "#fb9f3a"
            ],
            [
             0.8888888888888888,
             "#fdca26"
            ],
            [
             1,
             "#f0f921"
            ]
           ],
           "sequentialminus": [
            [
             0,
             "#0d0887"
            ],
            [
             0.1111111111111111,
             "#46039f"
            ],
            [
             0.2222222222222222,
             "#7201a8"
            ],
            [
             0.3333333333333333,
             "#9c179e"
            ],
            [
             0.4444444444444444,
             "#bd3786"
            ],
            [
             0.5555555555555556,
             "#d8576b"
            ],
            [
             0.6666666666666666,
             "#ed7953"
            ],
            [
             0.7777777777777778,
             "#fb9f3a"
            ],
            [
             0.8888888888888888,
             "#fdca26"
            ],
            [
             1,
             "#f0f921"
            ]
           ]
          },
          "colorway": [
           "#636efa",
           "#EF553B",
           "#00cc96",
           "#ab63fa",
           "#FFA15A",
           "#19d3f3",
           "#FF6692",
           "#B6E880",
           "#FF97FF",
           "#FECB52"
          ],
          "font": {
           "color": "#2a3f5f"
          },
          "geo": {
           "bgcolor": "white",
           "lakecolor": "white",
           "landcolor": "#E5ECF6",
           "showlakes": true,
           "showland": true,
           "subunitcolor": "white"
          },
          "hoverlabel": {
           "align": "left"
          },
          "hovermode": "closest",
          "mapbox": {
           "style": "light"
          },
          "paper_bgcolor": "white",
          "plot_bgcolor": "#E5ECF6",
          "polar": {
           "angularaxis": {
            "gridcolor": "white",
            "linecolor": "white",
            "ticks": ""
           },
           "bgcolor": "#E5ECF6",
           "radialaxis": {
            "gridcolor": "white",
            "linecolor": "white",
            "ticks": ""
           }
          },
          "scene": {
           "xaxis": {
            "backgroundcolor": "#E5ECF6",
            "gridcolor": "white",
            "gridwidth": 2,
            "linecolor": "white",
            "showbackground": true,
            "ticks": "",
            "zerolinecolor": "white"
           },
           "yaxis": {
            "backgroundcolor": "#E5ECF6",
            "gridcolor": "white",
            "gridwidth": 2,
            "linecolor": "white",
            "showbackground": true,
            "ticks": "",
            "zerolinecolor": "white"
           },
           "zaxis": {
            "backgroundcolor": "#E5ECF6",
            "gridcolor": "white",
            "gridwidth": 2,
            "linecolor": "white",
            "showbackground": true,
            "ticks": "",
            "zerolinecolor": "white"
           }
          },
          "shapedefaults": {
           "line": {
            "color": "#2a3f5f"
           }
          },
          "ternary": {
           "aaxis": {
            "gridcolor": "white",
            "linecolor": "white",
            "ticks": ""
           },
           "baxis": {
            "gridcolor": "white",
            "linecolor": "white",
            "ticks": ""
           },
           "bgcolor": "#E5ECF6",
           "caxis": {
            "gridcolor": "white",
            "linecolor": "white",
            "ticks": ""
           }
          },
          "title": {
           "x": 0.05
          },
          "xaxis": {
           "automargin": true,
           "gridcolor": "white",
           "linecolor": "white",
           "ticks": "",
           "title": {
            "standoff": 15
           },
           "zerolinecolor": "white",
           "zerolinewidth": 2
          },
          "yaxis": {
           "automargin": true,
           "gridcolor": "white",
           "linecolor": "white",
           "ticks": "",
           "title": {
            "standoff": 15
           },
           "zerolinecolor": "white",
           "zerolinewidth": 2
          }
         }
        },
        "title": {
         "text": "Precision e Recall vs Threshold"
        },
        "xaxis": {
         "title": {
          "text": "Threshold"
         }
        },
        "yaxis": {
         "range": [
          0,
          1
         ],
         "title": {
          "text": "Score"
         }
        }
       }
      }
     },
     "metadata": {},
     "output_type": "display_data"
    },
    {
     "name": "stdout",
     "output_type": "stream",
     "text": [
      "\n",
      "Valores por Threshold:\n",
      " Threshold  Precision  Recall\n",
      "      0.26      0.034   0.887\n",
      "      0.28      0.036   0.849\n",
      "      0.30      0.037   0.802\n",
      "      0.32      0.038   0.774\n",
      "      0.34      0.040   0.774\n",
      "      0.36      0.043   0.774\n",
      "      0.38      0.045   0.745\n",
      "      0.40      0.047   0.726\n",
      "      0.42      0.050   0.717\n",
      "      0.44      0.052   0.670\n",
      "      0.46      0.056   0.651\n",
      "      0.48      0.061   0.613\n",
      "      0.50      0.060   0.528\n",
      "      0.52      0.060   0.453\n",
      "      0.54      0.060   0.377\n",
      "      0.56      0.062   0.330\n",
      "      0.58      0.055   0.245\n"
     ]
    }
   ],
   "source": [
    "plot_th_decision(rf_model, X_val, y_val, th_atual=0.42)\n",
    "# o melhor th é 0.42\n",
    "# descer para 0.4 tem o ganho 0.71 para 0.72 em recall, porém a precision\n",
    "# cai de 0.05 para 0.046\n",
    "# subir para 0.44 tem o decaimento de recall em 0.71 para 0.66\n",
    "# porém o ganho de precision é marginal: 0.05 para 0.051"
   ]
  },
  {
   "cell_type": "code",
   "execution_count": 57,
   "metadata": {},
   "outputs": [
    {
     "data": {
      "image/png": "[encoded data removed]",
      "text/plain": [
       "<Figure size 640x480 with 1 Axes>"
      ]
     },
     "metadata": {},
     "output_type": "display_data"
    },
    {
     "data": {
      "image/png": "[encoded data removed]",
      "text/plain": [
       "<Figure size 640x480 with 2 Axes>"
      ]
     },
     "metadata": {},
     "output_type": "display_data"
    }
   ],
   "source": [
    "rf_eval.plot_lift()\n",
    "\n",
    "rf_eval.plot_confusion_matrix(normalize='true')"
   ]
  },
  {
   "cell_type": "code",
   "execution_count": 58,
   "metadata": {},
   "outputs": [],
   "source": [
    "th = 0.45\n",
    "y_probas = rf_model.predict_proba(X_val)[:, 1]\n",
    "ypred = (y_probas > th).astype(int)"
   ]
  },
  {
   "cell_type": "code",
   "execution_count": 59,
   "metadata": {},
   "outputs": [],
   "source": [
    "th = 0.45\n",
    "y_probas = rf_model.predict_proba(X_val)[:, 1]\n",
    "\n",
    "# Classify data into low, medium, and high categories\n",
    "ypred_low = (y_probas <= th).astype(int)\n",
    "ypred_medium = (y_probas > th) & (y_probas <= 0.7).astype(int)\n",
    "ypred_high = (y_probas > 0.7).astype(int)"
   ]
  },
  {
   "cell_type": "code",
   "execution_count": 60,
   "metadata": {},
   "outputs": [
    {
     "data": {
      "image/png": "[encoded data removed]",
      "text/plain": [
       "<Figure size 1000x600 with 1 Axes>"
      ]
     },
     "metadata": {},
     "output_type": "display_data"
    }
   ],
   "source": [
    "import numpy as np\n",
    "import matplotlib.pyplot as plt\n",
    "\n",
    "y_probas = rf_model.predict_proba(X_val)[:, 1]\n",
    "\n",
    "# Definindo os thresholds para classificação em baixo, médio e alto\n",
    "th_low = 0.45\n",
    "\n",
    "# Média entre o threshold baixo e o valor máximo\n",
    "th_mid = (0.45 + y_probas.max()) / 2  \n",
    "\n",
    "# Classificando as probabilidades\n",
    "y_class = np.where(y_probas < th_low, 'baixo', \n",
    "                   np.where(y_probas < th_mid, 'médio', 'alto'))\n",
    "\n",
    "# Plotando o histograma\n",
    "plt.figure(figsize=(10, 6))\n",
    "plt.hist(y_probas[y_class == 'baixo'], bins=20, color='blue', alpha=0.6, label='Baixo')\n",
    "plt.hist(y_probas[y_class == 'médio'], bins=20, color='orange', alpha=0.6, label='Médio')\n",
    "plt.hist(y_probas[y_class == 'alto'], bins=20, color='red', alpha=0.6, label='Alto')\n",
    "plt.xlabel(\"Probabilidade\")\n",
    "plt.ylabel(\"Frequência\")\n",
    "plt.title(\"Histograma das Classes de Probabilidade\")\n",
    "plt.legend()\n",
    "plt.show()\n"
   ]
  },
  {
   "cell_type": "markdown",
   "metadata": {},
   "source": [
    "Test"
   ]
  },
  {
   "cell_type": "code",
   "execution_count": 61,
   "metadata": {},
   "outputs": [
    {
     "data": {
      "text/plain": [
       "['pviews', 'visitas', 'dias', 'tempo_total', 'uf', 'sexo', 'device']"
      ]
     },
     "execution_count": 61,
     "metadata": {},
     "output_type": "execute_result"
    }
   ],
   "source": [
    "drop_cols"
   ]
  },
  {
   "cell_type": "code",
   "execution_count": 62,
   "metadata": {},
   "outputs": [],
   "source": [
    "X_test = df_test.drop(columns=['user', 'target_cartola_status'])\n",
    "y_test = df_test['target_cartola_status']"
   ]
  },
  {
   "cell_type": "code",
   "execution_count": 65,
   "metadata": {},
   "outputs": [
    {
     "data": {
      "image/png": "[encoded data removed]",
      "text/plain": [
       "<Figure size 640x480 with 1 Axes>"
      ]
     },
     "metadata": {},
     "output_type": "display_data"
    },
    {
     "data": {
      "image/png": "[encoded data removed]",
      "text/plain": [
       "<Figure size 640x480 with 2 Axes>"
      ]
     },
     "metadata": {},
     "output_type": "display_data"
    }
   ],
   "source": [
    "th = 0.45\n",
    "y_probas = rf_model.predict_proba(X_test)[:, 1]\n",
    "\n",
    "# Classify data into low, medium, and high categories\n",
    "ypred_low = (y_probas <= th).astype(int)\n",
    "ypred_medium = (y_probas > th) & (y_probas <= 0.7).astype(int)\n",
    "ypred_high = (y_probas > 0.7).astype(int)\n",
    "\n",
    "\n",
    "rf_eval = ModelEvaluator(rf_model, X_test, y_test, th=th)\n",
    "rf_eval.evaluate()\n",
    "\n",
    "rf_eval.plot_lift()\n",
    "\n",
    "rf_eval.plot_confusion_matrix(normalize='true')"
   ]
  },
  {
   "cell_type": "markdown",
   "metadata": {},
   "source": [
    "### XGBoost\n",
    "\n",
    "O próximo passo é testar com um modelo mais robusto"
   ]
  },
  {
   "cell_type": "code",
   "execution_count": 66,
   "metadata": {},
   "outputs": [],
   "source": [
    "# def objective(trial):\n",
    "#     params = {\n",
    "#         'objective': 'binary:logistic',  # ou 'multi:softmax' para múltiplas classes\n",
    "#         'eval_metric': 'logloss',        # Métrica de avaliação\n",
    "#         'eta': trial.suggest_float('eta', 0.01, 0.3),  # Taxa de aprendizado\n",
    "#         'max_depth': trial.suggest_int('max_depth', 5, 15),  # Profundidade máxima da árvore\n",
    "#         'subsample': trial.suggest_float('subsample', 0.5, 1.0),  # Fração de amostras\n",
    "#         'learning_rate': trial.suggest_float('learning_rate', 0.001, 0.5),\n",
    "#         'n_estimators': trial.suggest_int('n_estimators', 200, 1500),\n",
    "#         'n_jobs': -1,  # Usar todos os núcleos\n",
    "#         'scale_pos_weight': trial.suggest_int('scale_pos_weight', 38, 40),\n",
    "#         'random_state': 42\n",
    "#     }\n",
    "    \n",
    "#     classifier_obj = Pipeline([\n",
    "#         ('preprocessor', preprocessor),\n",
    "#         ('classifier', XGBClassifier(**params))\n",
    "#     ])\n",
    "    \n",
    "    \n",
    "#     # 2. Treine o modelo com os dados de treino\n",
    "#     classifier_obj.fit(X_train, y_train)\n",
    "    \n",
    "#     # 3. Faça previsões e calcule a métrica\n",
    "#     predictions = classifier_obj.predict(X_val)\n",
    "#     metric = recall_score(y_val, predictions)\n",
    "    \n",
    "#     return metric\n",
    "\n",
    "# # 4. Crie um objeto de estudo e otimize a função objetivo.\n",
    "# study = optuna.create_study(direction='maximize')\n",
    "# study.optimize(objective, n_trials=250)"
   ]
  },
  {
   "cell_type": "code",
   "execution_count": 68,
   "metadata": {},
   "outputs": [
    {
     "data": {
      "text/html": [
       "<div>\n",
       "<style scoped>\n",
       "    .dataframe tbody tr th:only-of-type {\n",
       "        vertical-align: middle;\n",
       "    }\n",
       "\n",
       "    .dataframe tbody tr th {\n",
       "        vertical-align: top;\n",
       "    }\n",
       "\n",
       "    .dataframe thead th {\n",
       "        text-align: right;\n",
       "    }\n",
       "</style>\n",
       "<table border=\"1\" class=\"dataframe\">\n",
       "  <thead>\n",
       "    <tr style=\"text-align: right;\">\n",
       "      <th></th>\n",
       "      <th>AUC</th>\n",
       "      <th>PRECISION</th>\n",
       "      <th>RECALL</th>\n",
       "      <th>LOGLOSS</th>\n",
       "      <th>F1</th>\n",
       "      <th>ACCURACY</th>\n",
       "    </tr>\n",
       "  </thead>\n",
       "  <tbody>\n",
       "    <tr>\n",
       "      <th>0</th>\n",
       "      <td>61.08</td>\n",
       "      <td>4.24</td>\n",
       "      <td>68.87</td>\n",
       "      <td>1666.98</td>\n",
       "      <td>7.98</td>\n",
       "      <td>53.75</td>\n",
       "    </tr>\n",
       "  </tbody>\n",
       "</table>\n",
       "</div>"
      ],
      "text/plain": [
       "     AUC  PRECISION  RECALL  LOGLOSS    F1  ACCURACY\n",
       "0  61.08       4.24   68.87  1666.98  7.98     53.75"
      ]
     },
     "execution_count": 68,
     "metadata": {},
     "output_type": "execute_result"
    }
   ],
   "source": [
    "# {'eta': 0.04769409406169523,\n",
    "#  'max_depth': 5,\n",
    "#  'subsample': 0.9949393655069952,\n",
    "#  'learning_rate': 0.0025158412731914083,\n",
    "#  'n_estimators': 228,\n",
    "#  'scale_pos_weight': 40}\n",
    "\n",
    "# xgb_model = Pipeline([\n",
    "#             ('preprocessor', preprocessor),\n",
    "#             ('classifier', XGBClassifier(\n",
    "#                 **study.best_params,\n",
    "#                 random_state=42,\n",
    "#             ))\n",
    "#         ])\n",
    "\n",
    "params = {\n",
    "    'eta': 0.04769409406169523,\n",
    "    'max_depth': 5,\n",
    "    'subsample': 0.9949393655069952,\n",
    "    'learning_rate': 0.0025158412731914083,\n",
    "    'n_estimators': 228,\n",
    "    'scale_pos_weight': 40\n",
    "    }\n",
    "\n",
    "xgb_model = Pipeline([\n",
    "            ('preprocessor', preprocessor),\n",
    "            ('classifier', XGBClassifier(\n",
    "                **params,\n",
    "                random_state=42,\n",
    "            ))\n",
    "        ])\n",
    "\n",
    "xgb_model.fit(X_train, y_train)\n",
    "xgb_eval = ModelEvaluator(xgb_model, X_val, y_val, th=0.45)\n",
    "xgb_eval.evaluate()"
   ]
  },
  {
   "cell_type": "code",
   "execution_count": 71,
   "metadata": {},
   "outputs": [
    {
     "data": {
      "application/vnd.plotly.v1+json": {
       "config": {
        "plotlyServerURL": "https://plot.ly"
       },
       "data": [
        {
         "line": {
          "color": "blue",
          "width": 2
         },
         "name": "Precision",
         "type": "scatter",
         "x": [
          0.26,
          0.28,
          0.30000000000000004,
          0.32000000000000006,
          0.3400000000000001,
          0.3600000000000001,
          0.3800000000000001,
          0.40000000000000013,
          0.42000000000000015,
          0.44000000000000017,
          0.4600000000000002,
          0.4800000000000002,
          0.5000000000000002,
          0.5200000000000002,
          0.5400000000000003,
          0.5600000000000003,
          0.5800000000000003
         ],
         "y": [
          0.02912888156086837,
          0.02912888156086837,
          0.029217199558985666,
          0.02955249085280045,
          0.03040141676505313,
          0.03163555836760519,
          0.03741358275721838,
          0.04152744630071599,
          0.04386422976501306,
          0.04362606232294618,
          0.04342581423401689,
          0.04482531311799604,
          0.048034934497816595,
          0.05243790248390064,
          0.06291834002677377,
          0.06655290102389079,
          0.06561085972850679
         ]
        },
        {
         "line": {
          "color": "red",
          "width": 2
         },
         "name": "Recall",
         "type": "scatter",
         "x": [
          0.26,
          0.28,
          0.30000000000000004,
          0.32000000000000006,
          0.3400000000000001,
          0.3600000000000001,
          0.3800000000000001,
          0.40000000000000013,
          0.42000000000000015,
          0.44000000000000017,
          0.4600000000000002,
          0.4800000000000002,
          0.5000000000000002,
          0.5200000000000002,
          0.5400000000000003,
          0.5600000000000003,
          0.5800000000000003
         ],
         "y": [
          1,
          1,
          1,
          0.9905660377358491,
          0.9716981132075472,
          0.9433962264150944,
          0.8679245283018868,
          0.8207547169811321,
          0.7924528301886793,
          0.7264150943396226,
          0.6792452830188679,
          0.6415094339622641,
          0.6226415094339622,
          0.5377358490566038,
          0.44339622641509435,
          0.36792452830188677,
          0.27358490566037735
         ]
        }
       ],
       "layout": {
        "annotations": [
         {
          "showarrow": false,
          "text": "Threshold Atual (0.42)",
          "x": 0.45,
          "xanchor": "left",
          "xref": "x",
          "y": 1,
          "yanchor": "top",
          "yref": "y domain"
         }
        ],
        "hovermode": "x unified",
        "shapes": [
         {
          "line": {
           "color": "gray",
           "dash": "dash"
          },
          "type": "line",
          "x0": 0.45,
          "x1": 0.45,
          "xref": "x",
          "y0": 0,
          "y1": 1,
          "yref": "y domain"
         }
        ],
        "template": {
         "data": {
          "bar": [
           {
            "error_x": {
             "color": "#2a3f5f"
            },
            "error_y": {
             "color": "#2a3f5f"
            },
            "marker": {
             "line": {
              "color": "#E5ECF6",
              "width": 0.5
             },
             "pattern": {
              "fillmode": "overlay",
              "size": 10,
              "solidity": 0.2
             }
            },
            "type": "bar"
           }
          ],
          "barpolar": [
           {
            "marker": {
             "line": {
              "color": "#E5ECF6",
              "width": 0.5
             },
             "pattern": {
              "fillmode": "overlay",
              "size": 10,
              "solidity": 0.2
             }
            },
            "type": "barpolar"
           }
          ],
          "carpet": [
           {
            "aaxis": {
             "endlinecolor": "#2a3f5f",
             "gridcolor": "white",
             "linecolor": "white",
             "minorgridcolor": "white",
             "startlinecolor": "#2a3f5f"
            },
            "baxis": {
             "endlinecolor": "#2a3f5f",
             "gridcolor": "white",
             "linecolor": "white",
             "minorgridcolor": "white",
             "startlinecolor": "#2a3f5f"
            },
            "type": "carpet"
           }
          ],
          "choropleth": [
           {
            "colorbar": {
             "outlinewidth": 0,
             "ticks": ""
            },
            "type": "choropleth"
           }
          ],
          "contour": [
           {
            "colorbar": {
             "outlinewidth": 0,
             "ticks": ""
            },
            "colorscale": [
             [
              0,
              "#0d0887"
             ],
             [
              0.1111111111111111,
              "#46039f"
             ],
             [
              0.2222222222222222,
              "#7201a8"
             ],
             [
              0.3333333333333333,
              "#9c179e"
             ],
             [
              0.4444444444444444,
              "#bd3786"
             ],
             [
              0.5555555555555556,
              "#d8576b"
             ],
             [
              0.6666666666666666,
              "#ed7953"
             ],
             [
              0.7777777777777778,
              "#fb9f3a"
             ],
             [
              0.8888888888888888,
              "#fdca26"
             ],
             [
              1,
              "#f0f921"
             ]
            ],
            "type": "contour"
           }
          ],
          "contourcarpet": [
           {
            "colorbar": {
             "outlinewidth": 0,
             "ticks": ""
            },
            "type": "contourcarpet"
           }
          ],
          "heatmap": [
           {
            "colorbar": {
             "outlinewidth": 0,
             "ticks": ""
            },
            "colorscale": [
             [
              0,
              "#0d0887"
             ],
             [
              0.1111111111111111,
              "#46039f"
             ],
             [
              0.2222222222222222,
              "#7201a8"
             ],
             [
              0.3333333333333333,
              "#9c179e"
             ],
             [
              0.4444444444444444,
              "#bd3786"
             ],
             [
              0.5555555555555556,
              "#d8576b"
             ],
             [
              0.6666666666666666,
              "#ed7953"
             ],
             [
              0.7777777777777778,
              "#fb9f3a"
             ],
             [
              0.8888888888888888,
              "#fdca26"
             ],
             [
              1,
              "#f0f921"
             ]
            ],
            "type": "heatmap"
           }
          ],
          "heatmapgl": [
           {
            "colorbar": {
             "outlinewidth": 0,
             "ticks": ""
            },
            "colorscale": [
             [
              0,
              "#0d0887"
             ],
             [
              0.1111111111111111,
              "#46039f"
             ],
             [
              0.2222222222222222,
              "#7201a8"
             ],
             [
              0.3333333333333333,
              "#9c179e"
             ],
             [
              0.4444444444444444,
              "#bd3786"
             ],
             [
              0.5555555555555556,
              "#d8576b"
             ],
             [
              0.6666666666666666,
              "#ed7953"
             ],
             [
              0.7777777777777778,
              "#fb9f3a"
             ],
             [
              0.8888888888888888,
              "#fdca26"
             ],
             [
              1,
              "#f0f921"
             ]
            ],
            "type": "heatmapgl"
           }
          ],
          "histogram": [
           {
            "marker": {
             "pattern": {
              "fillmode": "overlay",
              "size": 10,
              "solidity": 0.2
             }
            },
            "type": "histogram"
           }
          ],
          "histogram2d": [
           {
            "colorbar": {
             "outlinewidth": 0,
             "ticks": ""
            },
            "colorscale": [
             [
              0,
              "#0d0887"
             ],
             [
              0.1111111111111111,
              "#46039f"
             ],
             [
              0.2222222222222222,
              "#7201a8"
             ],
             [
              0.3333333333333333,
              "#9c179e"
             ],
             [
              0.4444444444444444,
              "#bd3786"
             ],
             [
              0.5555555555555556,
              "#d8576b"
             ],
             [
              0.6666666666666666,
              "#ed7953"
             ],
             [
              0.7777777777777778,
              "#fb9f3a"
             ],
             [
              0.8888888888888888,
              "#fdca26"
             ],
             [
              1,
              "#f0f921"
             ]
            ],
            "type": "histogram2d"
           }
          ],
          "histogram2dcontour": [
           {
            "colorbar": {
             "outlinewidth": 0,
             "ticks": ""
            },
            "colorscale": [
             [
              0,
              "#0d0887"
             ],
             [
              0.1111111111111111,
              "#46039f"
             ],
             [
              0.2222222222222222,
              "#7201a8"
             ],
             [
              0.3333333333333333,
              "#9c179e"
             ],
             [
              0.4444444444444444,
              "#bd3786"
             ],
             [
              0.5555555555555556,
              "#d8576b"
             ],
             [
              0.6666666666666666,
              "#ed7953"
             ],
             [
              0.7777777777777778,
              "#fb9f3a"
             ],
             [
              0.8888888888888888,
              "#fdca26"
             ],
             [
              1,
              "#f0f921"
             ]
            ],
            "type": "histogram2dcontour"
           }
          ],
          "mesh3d": [
           {
            "colorbar": {
             "outlinewidth": 0,
             "ticks": ""
            },
            "type": "mesh3d"
           }
          ],
          "parcoords": [
           {
            "line": {
             "colorbar": {
              "outlinewidth": 0,
              "ticks": ""
             }
            },
            "type": "parcoords"
           }
          ],
          "pie": [
           {
            "automargin": true,
            "type": "pie"
           }
          ],
          "scatter": [
           {
            "fillpattern": {
             "fillmode": "overlay",
             "size": 10,
             "solidity": 0.2
            },
            "type": "scatter"
           }
          ],
          "scatter3d": [
           {
            "line": {
             "colorbar": {
              "outlinewidth": 0,
              "ticks": ""
             }
            },
            "marker": {
             "colorbar": {
              "outlinewidth": 0,
              "ticks": ""
             }
            },
            "type": "scatter3d"
           }
          ],
          "scattercarpet": [
           {
            "marker": {
             "colorbar": {
              "outlinewidth": 0,
              "ticks": ""
             }
            },
            "type": "scattercarpet"
           }
          ],
          "scattergeo": [
           {
            "marker": {
             "colorbar": {
              "outlinewidth": 0,
              "ticks": ""
             }
            },
            "type": "scattergeo"
           }
          ],
          "scattergl": [
           {
            "marker": {
             "colorbar": {
              "outlinewidth": 0,
              "ticks": ""
             }
            },
            "type": "scattergl"
           }
          ],
          "scattermapbox": [
           {
            "marker": {
             "colorbar": {
              "outlinewidth": 0,
              "ticks": ""
             }
            },
            "type": "scattermapbox"
           }
          ],
          "scatterpolar": [
           {
            "marker": {
             "colorbar": {
              "outlinewidth": 0,
              "ticks": ""
             }
            },
            "type": "scatterpolar"
           }
          ],
          "scatterpolargl": [
           {
            "marker": {
             "colorbar": {
              "outlinewidth": 0,
              "ticks": ""
             }
            },
            "type": "scatterpolargl"
           }
          ],
          "scatterternary": [
           {
            "marker": {
             "colorbar": {
              "outlinewidth": 0,
              "ticks": ""
             }
            },
            "type": "scatterternary"
           }
          ],
          "surface": [
           {
            "colorbar": {
             "outlinewidth": 0,
             "ticks": ""
            },
            "colorscale": [
             [
              0,
              "#0d0887"
             ],
             [
              0.1111111111111111,
              "#46039f"
             ],
             [
              0.2222222222222222,
              "#7201a8"
             ],
             [
              0.3333333333333333,
              "#9c179e"
             ],
             [
              0.4444444444444444,
              "#bd3786"
             ],
             [
              0.5555555555555556,
              "#d8576b"
             ],
             [
              0.6666666666666666,
              "#ed7953"
             ],
             [
              0.7777777777777778,
              "#fb9f3a"
             ],
             [
              0.8888888888888888,
              "#fdca26"
             ],
             [
              1,
              "#f0f921"
             ]
            ],
            "type": "surface"
           }
          ],
          "table": [
           {
            "cells": {
             "fill": {
              "color": "#EBF0F8"
             },
             "line": {
              "color": "white"
             }
            },
            "header": {
             "fill": {
              "color": "#C8D4E3"
             },
             "line": {
              "color": "white"
             }
            },
            "type": "table"
           }
          ]
         },
         "layout": {
          "annotationdefaults": {
           "arrowcolor": "#2a3f5f",
           "arrowhead": 0,
           "arrowwidth": 1
          },
          "autotypenumbers": "strict",
          "coloraxis": {
           "colorbar": {
            "outlinewidth": 0,
            "ticks": ""
           }
          },
          "colorscale": {
           "diverging": [
            [
             0,
             "#8e0152"
            ],
            [
             0.1,
             "#c51b7d"
            ],
            [
             0.2,
             "#de77ae"
            ],
            [
             0.3,
             "#f1b6da"
            ],
            [
             0.4,
             "#fde0ef"
            ],
            [
             0.5,
             "#f7f7f7"
            ],
            [
             0.6,
             "#e6f5d0"
            ],
            [
             0.7,
             "#b8e186"
            ],
            [
             0.8,
             "#7fbc41"
            ],
            [
             0.9,
             "#4d9221"
            ],
            [
             1,
             "#276419"
            ]
           ],
           "sequential": [
            [
             0,
             "#0d0887"
            ],
            [
             0.1111111111111111,
             "#46039f"
            ],
            [
             0.2222222222222222,
             "#7201a8"
            ],
            [
             0.3333333333333333,
             "#9c179e"
            ],
            [
             0.4444444444444444,
             "#bd3786"
            ],
            [
             0.5555555555555556,
             "#d8576b"
            ],
            [
             0.6666666666666666,
             "#ed7953"
            ],
            [
             0.7777777777777778,
             "#fb9f3a"
            ],
            [
             0.8888888888888888,
             "#fdca26"
            ],
            [
             1,
             "#f0f921"
            ]
           ],
           "sequentialminus": [
            [
             0,
             "#0d0887"
            ],
            [
             0.1111111111111111,
             "#46039f"
            ],
            [
             0.2222222222222222,
             "#7201a8"
            ],
            [
             0.3333333333333333,
             "#9c179e"
            ],
            [
             0.4444444444444444,
             "#bd3786"
            ],
            [
             0.5555555555555556,
             "#d8576b"
            ],
            [
             0.6666666666666666,
             "#ed7953"
            ],
            [
             0.7777777777777778,
             "#fb9f3a"
            ],
            [
             0.8888888888888888,
             "#fdca26"
            ],
            [
             1,
             "#f0f921"
            ]
           ]
          },
          "colorway": [
           "#636efa",
           "#EF553B",
           "#00cc96",
           "#ab63fa",
           "#FFA15A",
           "#19d3f3",
           "#FF6692",
           "#B6E880",
           "#FF97FF",
           "#FECB52"
          ],
          "font": {
           "color": "#2a3f5f"
          },
          "geo": {
           "bgcolor": "white",
           "lakecolor": "white",
           "landcolor": "#E5ECF6",
           "showlakes": true,
           "showland": true,
           "subunitcolor": "white"
          },
          "hoverlabel": {
           "align": "left"
          },
          "hovermode": "closest",
          "mapbox": {
           "style": "light"
          },
          "paper_bgcolor": "white",
          "plot_bgcolor": "#E5ECF6",
          "polar": {
           "angularaxis": {
            "gridcolor": "white",
            "linecolor": "white",
            "ticks": ""
           },
           "bgcolor": "#E5ECF6",
           "radialaxis": {
            "gridcolor": "white",
            "linecolor": "white",
            "ticks": ""
           }
          },
          "scene": {
           "xaxis": {
            "backgroundcolor": "#E5ECF6",
            "gridcolor": "white",
            "gridwidth": 2,
            "linecolor": "white",
            "showbackground": true,
            "ticks": "",
            "zerolinecolor": "white"
           },
           "yaxis": {
            "backgroundcolor": "#E5ECF6",
            "gridcolor": "white",
            "gridwidth": 2,
            "linecolor": "white",
            "showbackground": true,
            "ticks": "",
            "zerolinecolor": "white"
           },
           "zaxis": {
            "backgroundcolor": "#E5ECF6",
            "gridcolor": "white",
            "gridwidth": 2,
            "linecolor": "white",
            "showbackground": true,
            "ticks": "",
            "zerolinecolor": "white"
           }
          },
          "shapedefaults": {
           "line": {
            "color": "#2a3f5f"
           }
          },
          "ternary": {
           "aaxis": {
            "gridcolor": "white",
            "linecolor": "white",
            "ticks": ""
           },
           "baxis": {
            "gridcolor": "white",
            "linecolor": "white",
            "ticks": ""
           },
           "bgcolor": "#E5ECF6",
           "caxis": {
            "gridcolor": "white",
            "linecolor": "white",
            "ticks": ""
           }
          },
          "title": {
           "x": 0.05
          },
          "xaxis": {
           "automargin": true,
           "gridcolor": "white",
           "linecolor": "white",
           "ticks": "",
           "title": {
            "standoff": 15
           },
           "zerolinecolor": "white",
           "zerolinewidth": 2
          },
          "yaxis": {
           "automargin": true,
           "gridcolor": "white",
           "linecolor": "white",
           "ticks": "",
           "title": {
            "standoff": 15
           },
           "zerolinecolor": "white",
           "zerolinewidth": 2
          }
         }
        },
        "title": {
         "text": "Precision e Recall vs Threshold"
        },
        "xaxis": {
         "title": {
          "text": "Threshold"
         }
        },
        "yaxis": {
         "range": [
          0,
          1
         ],
         "title": {
          "text": "Score"
         }
        }
       }
      }
     },
     "metadata": {},
     "output_type": "display_data"
    },
    {
     "name": "stdout",
     "output_type": "stream",
     "text": [
      "\n",
      "Valores por Threshold:\n",
      " Threshold  Precision  Recall\n",
      "      0.26      0.029   1.000\n",
      "      0.28      0.029   1.000\n",
      "      0.30      0.029   1.000\n",
      "      0.32      0.030   0.991\n",
      "      0.34      0.030   0.972\n",
      "      0.36      0.032   0.943\n",
      "      0.38      0.037   0.868\n",
      "      0.40      0.042   0.821\n",
      "      0.42      0.044   0.792\n",
      "      0.44      0.044   0.726\n",
      "      0.46      0.043   0.679\n",
      "      0.48      0.045   0.642\n",
      "      0.50      0.048   0.623\n",
      "      0.52      0.052   0.538\n",
      "      0.54      0.063   0.443\n",
      "      0.56      0.067   0.368\n",
      "      0.58      0.066   0.274\n"
     ]
    }
   ],
   "source": [
    "plot_th_decision(xgb_model, X_val, y_val, th_atual=0.42)\n",
    "\n",
    "# 0.42 permite um aumento da recall em relação a 0.40. \n",
    "# caso eu desça o th para 0.40, tenho um decaimento da precision de 0,043 para 0,041\n",
    "# caso aumente para 0.44, recall cai de 0,79 para 0,72 e a precision aumenta de forma marginal\n",
    "# portanto, manteremos 0,42"
   ]
  },
  {
   "cell_type": "code",
   "execution_count": 72,
   "metadata": {},
   "outputs": [
    {
     "data": {
      "text/html": [
       "<div>\n",
       "<style scoped>\n",
       "    .dataframe tbody tr th:only-of-type {\n",
       "        vertical-align: middle;\n",
       "    }\n",
       "\n",
       "    .dataframe tbody tr th {\n",
       "        vertical-align: top;\n",
       "    }\n",
       "\n",
       "    .dataframe thead th {\n",
       "        text-align: right;\n",
       "    }\n",
       "</style>\n",
       "<table border=\"1\" class=\"dataframe\">\n",
       "  <thead>\n",
       "    <tr style=\"text-align: right;\">\n",
       "      <th></th>\n",
       "      <th>AUC</th>\n",
       "      <th>PRECISION</th>\n",
       "      <th>RECALL</th>\n",
       "      <th>LOGLOSS</th>\n",
       "      <th>F1</th>\n",
       "      <th>ACCURACY</th>\n",
       "    </tr>\n",
       "  </thead>\n",
       "  <tbody>\n",
       "    <tr>\n",
       "      <th>0</th>\n",
       "      <td>63.71</td>\n",
       "      <td>4.39</td>\n",
       "      <td>79.25</td>\n",
       "      <td>1835.36</td>\n",
       "      <td>8.31</td>\n",
       "      <td>49.08</td>\n",
       "    </tr>\n",
       "  </tbody>\n",
       "</table>\n",
       "</div>"
      ],
      "text/plain": [
       "     AUC  PRECISION  RECALL  LOGLOSS    F1  ACCURACY\n",
       "0  63.71       4.39   79.25  1835.36  8.31     49.08"
      ]
     },
     "execution_count": 72,
     "metadata": {},
     "output_type": "execute_result"
    }
   ],
   "source": [
    "# usando o valor da precision-recall curve\n",
    "xgb_model.fit(X_train, y_train)\n",
    "xgb_eval = ModelEvaluator(xgb_model, X_val, y_val, th=0.42)\n",
    "xgb_eval.evaluate()"
   ]
  },
  {
   "cell_type": "code",
   "execution_count": 73,
   "metadata": {},
   "outputs": [
    {
     "data": {
      "image/png": "[encoded data removed]",
      "text/plain": [
       "<Figure size 640x480 with 1 Axes>"
      ]
     },
     "metadata": {},
     "output_type": "display_data"
    },
    {
     "data": {
      "image/png": "[encoded data removed]",
      "text/plain": [
       "<Figure size 640x480 with 2 Axes>"
      ]
     },
     "metadata": {},
     "output_type": "display_data"
    }
   ],
   "source": [
    "th = 0.42\n",
    "y_probas = xgb_model.predict_proba(X_val)[:, 1]\n",
    "ypred = (y_probas > th).astype(int)\n",
    "\n",
    "xgb_eval_final = ModelEvaluator(xgb_model, X_val, y_val, th=th)\n",
    "xgb_eval_final.evaluate()\n",
    "\n",
    "xgb_eval_final.plot_lift()\n",
    "\n",
    "xgb_eval_final.plot_confusion_matrix(normalize='true')"
   ]
  },
  {
   "cell_type": "code",
   "execution_count": 74,
   "metadata": {},
   "outputs": [
    {
     "data": {
      "image/png": "[encoded data removed]",
      "text/plain": [
       "<Figure size 640x480 with 1 Axes>"
      ]
     },
     "metadata": {},
     "output_type": "display_data"
    },
    {
     "data": {
      "image/png": "[encoded data removed]",
      "text/plain": [
       "<Figure size 640x480 with 2 Axes>"
      ]
     },
     "metadata": {},
     "output_type": "display_data"
    }
   ],
   "source": [
    "th = 0.42\n",
    "y_probas = xgb_model.predict_proba(X_test)[:, 1]\n",
    "\n",
    "# Classify data into low, medium, and high categories\n",
    "ypred_low = (y_probas <= th).astype(int)\n",
    "ypred_medium = (y_probas > th) & (y_probas <= 0.7).astype(int)\n",
    "ypred_high = (y_probas > 0.7).astype(int)\n",
    "\n",
    "\n",
    "rf_eval = ModelEvaluator(xgb_model, X_test, y_test, th=th)\n",
    "rf_eval.evaluate()\n",
    "\n",
    "rf_eval.plot_lift()\n",
    "\n",
    "rf_eval.plot_confusion_matrix(normalize='true')"
   ]
  },
  {
   "cell_type": "markdown",
   "metadata": {},
   "source": [
    "# Seleção do modelo"
   ]
  },
  {
   "cell_type": "markdown",
   "metadata": {},
   "source": [
    "O XGboost adequou melhor no dataset de validação e dataset de teste."
   ]
  },
  {
   "cell_type": "markdown",
   "metadata": {},
   "source": [
    "## Conjunto de validação"
   ]
  },
  {
   "cell_type": "markdown",
   "metadata": {},
   "source": [
    "### Random Forest"
   ]
  },
  {
   "cell_type": "markdown",
   "metadata": {},
   "source": [
    "#### Val"
   ]
  },
  {
   "cell_type": "code",
   "execution_count": 79,
   "metadata": {},
   "outputs": [
    {
     "data": {
      "image/png": "[encoded data removed]",
      "text/plain": [
       "<Figure size 640x480 with 1 Axes>"
      ]
     },
     "metadata": {},
     "output_type": "display_data"
    },
    {
     "data": {
      "image/png": "[encoded data removed]",
      "text/plain": [
       "<Figure size 640x480 with 2 Axes>"
      ]
     },
     "metadata": {},
     "output_type": "display_data"
    }
   ],
   "source": [
    "rf_eval = ModelEvaluator(rf_model, X_val, y_val, th=0.42)\n",
    "\n",
    "rf_eval.plot_lift()\n",
    "\n",
    "rf_eval.plot_confusion_matrix(normalize='true')"
   ]
  },
  {
   "cell_type": "markdown",
   "metadata": {},
   "source": [
    "### XGBoost"
   ]
  },
  {
   "cell_type": "markdown",
   "metadata": {},
   "source": [
    "#### Val"
   ]
  },
  {
   "cell_type": "code",
   "execution_count": 81,
   "metadata": {},
   "outputs": [
    {
     "data": {
      "image/png": "[encoded data removed]",
      "text/plain": [
       "<Figure size 640x480 with 1 Axes>"
      ]
     },
     "metadata": {},
     "output_type": "display_data"
    },
    {
     "data": {
      "image/png": "[encoded data removed]",
      "text/plain": [
       "<Figure size 640x480 with 2 Axes>"
      ]
     },
     "metadata": {},
     "output_type": "display_data"
    }
   ],
   "source": [
    "xgb_eval = ModelEvaluator(xgb_model, X_val, y_val, th=0.42)\n",
    "\n",
    "xgb_eval.plot_lift()\n",
    "\n",
    "xgb_eval.plot_confusion_matrix(normalize='true')"
   ]
  },
  {
   "cell_type": "markdown",
   "metadata": {},
   "source": [
    "## Conjunto de Teste"
   ]
  },
  {
   "cell_type": "markdown",
   "metadata": {},
   "source": [
    "### Random Forest"
   ]
  },
  {
   "cell_type": "code",
   "execution_count": 82,
   "metadata": {},
   "outputs": [
    {
     "data": {
      "image/png": "[encoded data removed]",
      "text/plain": [
       "<Figure size 640x480 with 2 Axes>"
      ]
     },
     "metadata": {},
     "output_type": "display_data"
    }
   ],
   "source": [
    "rf_eval = ModelEvaluator(rf_model, X_test, y_test, th=0.42)\n",
    "rf_eval.plot_confusion_matrix(normalize='true')"
   ]
  },
  {
   "cell_type": "markdown",
   "metadata": {},
   "source": [
    "### XGBoost"
   ]
  },
  {
   "cell_type": "code",
   "execution_count": 83,
   "metadata": {},
   "outputs": [
    {
     "data": {
      "image/png": "[encoded data removed]",
      "text/plain": [
       "<Figure size 640x480 with 2 Axes>"
      ]
     },
     "metadata": {},
     "output_type": "display_data"
    }
   ],
   "source": [
    "xgb_eval = ModelEvaluator(xgb_model, X_test, y_test, th=0.42)\n",
    "xgb_eval.plot_confusion_matrix(normalize='true')"
   ]
  },
  {
   "cell_type": "markdown",
   "metadata": {},
   "source": [
    "# Análise Comparativa dos Modelos\n",
    "\n",
    "## Resultados em Teste\n",
    "\n",
    "## Justificativa de Escolha: XGBoost\n",
    "\n",
    "1. **Performance Superior**: O modelo identifica 75% das conversões reais vs 66% da Random Forest, representando uma diferença significativa de 90 conversões adicionais a cada 1000 casos.\n",
    "\n",
    "2. **Estabilidade**: Apresentou menor variação entre validação e teste:\n",
    "  - Classe positiva: ±0.04 (vs ±0.06 RF)\n",
    "  - Classe negativa: ±0.01 (similar à RF)\n",
    "\n",
    "3. **Trade-off Aceitável**: O aumento de 11% nos falsos positivos é compensado pela captura de 9% a mais de conversões reais, especialmente considerando que:\n",
    "  - O custo de perder uma conversão (receita) > custo operacional de abordar falsos positivos\n",
    "  - O dataset é naturalmente desbalanceado (97% classe 0, 3% classe 1)\n",
    "\n",
    "**Conclusão**: O XGBoost demonstra melhor capacidade de generalização e performance superior na métrica principal (identificação de conversões), justificando sua escolha para implementação em produção.```"
   ]
  },
  {
   "cell_type": "code",
   "execution_count": null,
   "metadata": {},
   "outputs": [],
   "source": [
    "# Análise de Performance: Validação vs Teste\n",
    "\n",
    "## Comparativo dos Conjuntos\n",
    "\n",
    "### Validação\n",
    "Random Forest:\n",
    "- True Positive Rate: 72%\n",
    "- False Positive Rate: 41%\n",
    "\n",
    "XGBoost:\n",
    "- True Positive Rate: 79%\n",
    "- False Positive Rate: 52%\n",
    "\n",
    "### Teste\n",
    "Random Forest:\n",
    "- True Positive Rate: 66%\n",
    "- False Positive Rate: 40%\n",
    "\n",
    "XGBoost:\n",
    "- True Positive Rate: 75%\n",
    "- False Positive Rate: 51%\n",
    "\n",
    "## Recomendação\n",
    "\n",
    "Para apresentação dos resultados, recomendo utilizar os números do conjunto de teste pelos seguintes motivos:\n",
    "\n",
    "1. **Maior Confiabilidade**: O conjunto de teste representa dados nunca vistos pelo modelo, simulando melhor o cenário real de produção.\n",
    "\n",
    "2. **Conservadorismo**: Os resultados em teste são ligeiramente inferiores aos de validação, fornecendo uma estimativa mais conservadora e realista do desempenho esperado.\n",
    "\n",
    "3. **Transparência**: Apresentar métricas de teste demonstra maior rigor metodológico e transparência na avaliação do modelo.\n",
    "\n",
    "**Conclusão**: Embora os resultados de validação sejam mais otimistas, os números de teste (XGBoost: 75% True Positive Rate) fornecem maior credibilidade à apresentação e melhor estimativa do desempenho real esperado em produção."
   ]
  },
  {
   "cell_type": "code",
   "execution_count": null,
   "metadata": {},
   "outputs": [],
   "source": []
  },
  {
   "cell_type": "code",
   "execution_count": null,
   "metadata": {},
   "outputs": [],
   "source": []
  },
  {
   "cell_type": "code",
   "execution_count": null,
   "metadata": {},
   "outputs": [],
   "source": []
  },
  {
   "cell_type": "code",
   "execution_count": null,
   "metadata": {},
   "outputs": [],
   "source": []
  },
  {
   "cell_type": "markdown",
   "metadata": {},
   "source": [
    "Precision: dos clientes que previmos como PRO, quantos realmente são\n",
    "\n",
    "Recall: dos clientes que realmente são PRO, quantos conseguimos identificar\n",
    "\n",
    "F1 : Bom para avaliar o trade-off entre falsos positivos e falsos negativos. Dá mais peso para a classe minoritária (PRO)\n",
    "\n",
    "Lift\n",
    "\n",
    "Mostra quantas vezes seu modelo é melhor que uma seleção aleatória\n",
    "Muito útil para problemas de negócio como este\n",
    "\n",
    "\n",
    "Vamos analisar o significado de cada métrica no contexto do Cartola FC para tomar essa decisão:\n",
    "\n",
    "**Precision (Precisão)**\n",
    "- Dos clientes que o modelo previu como potenciais PRO, quantos realmente se tornaram PRO\n",
    "- Alta precision significa menos desperdício de recursos em ações de marketing\n",
    "- Fórmula: Verdadeiros Positivos / (Verdadeiros Positivos + Falsos Positivos)\n",
    "\n",
    "**Recall (Revocação/Sensibilidade)**\n",
    "- Dos clientes que realmente se tornaram PRO, quantos conseguimos identificar\n",
    "- Alto recall significa capturar a maior quantidade possível de clientes potenciais\n",
    "- Fórmula: Verdadeiros Positivos / (Verdadeiros Positivos + Falsos Negativos)\n",
    "\n",
    "Para o Cartola FC, eu recomendaria **priorizar Recall** pelos seguintes motivos:\n",
    "\n",
    "1. **Modelo de Negócio**\n",
    "   - Cliente PRO gera receita recorrente\n",
    "   - Perder um potencial cliente PRO (falso negativo) significa perder receita garantida\n",
    "   - O custo de abordar um cliente free que não se converte (falso positivo) é relativamente baixo\n",
    "\n",
    "2. **Estratégia de Marketing**\n",
    "   - Melhor abordar mais clientes potenciais, mesmo que alguns não convertam\n",
    "   - O custo de comunicação/campanha provavelmente é baixo (emails, notificações no app)\n",
    "   - Você pode criar diferentes níveis de ações baseado no score de propensão\n",
    "\n",
    "3. **Competitividade do Mercado**\n",
    "   - Se um cliente com alto potencial não é abordado, ele pode:\n",
    "     - Continuar como free indefinidamente\n",
    "     - Migrar para concorrentes\n",
    "     - Perder interesse no produto\n",
    "\n",
    "4. **Aprendizado do Negócio**\n",
    "   - Alto recall permite entender melhor o comportamento dos diferentes perfis\n",
    "   - Ajuda a refinar futuras campanhas e o próprio modelo\n",
    "\n",
    "Recomendações práticas:\n",
    "\n",
    "1. Use threshold mais baixo na classificação para aumentar o recall\n",
    "2. Monitore o lift nas diferentes faixas de score\n",
    "3. Crie níveis de ações diferentes baseado no score:\n",
    "   - Top 10%: ação mais agressiva\n",
    "   - 10-30%: ação moderada\n",
    "   - 30-50%: ação leve\n",
    "\n",
    "Você concorda com essa análise? Tem alguma informação adicional sobre o custo de aquisição ou valor do cliente PRO que devemos considerar?"
   ]
  },
  {
   "cell_type": "code",
   "execution_count": null,
   "metadata": {},
   "outputs": [],
   "source": []
  },
  {
   "cell_type": "code",
   "execution_count": null,
   "metadata": {},
   "outputs": [],
   "source": []
  },
  {
   "cell_type": "code",
   "execution_count": null,
   "metadata": {},
   "outputs": [],
   "source": []
  },
  {
   "cell_type": "code",
   "execution_count": null,
   "metadata": {},
   "outputs": [],
   "source": []
  },
  {
   "cell_type": "code",
   "execution_count": null,
   "metadata": {},
   "outputs": [],
   "source": []
  },
  {
   "cell_type": "code",
   "execution_count": null,
   "metadata": {},
   "outputs": [],
   "source": []
  },
  {
   "cell_type": "code",
   "execution_count": null,
   "metadata": {},
   "outputs": [],
   "source": []
  }
 ],
 "metadata": {
  "kernelspec": {
   "display_name": "venv",
   "language": "python",
   "name": "python3"
  },
  "language_info": {
   "codemirror_mode": {
    "name": "ipython",
    "version": 3
   },
   "file_extension": ".py",
   "mimetype": "text/x-python",
   "name": "python",
   "nbconvert_exporter": "python",
   "pygments_lexer": "ipython3",
   "version": "3.10.7"
  }
 },
 "nbformat": 4,
 "nbformat_minor": 2
}
